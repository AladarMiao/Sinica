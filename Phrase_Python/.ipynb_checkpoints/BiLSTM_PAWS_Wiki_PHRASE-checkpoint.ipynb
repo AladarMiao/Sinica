{
 "cells": [
  {
   "cell_type": "code",
   "execution_count": 1,
   "metadata": {},
   "outputs": [
    {
     "name": "stderr",
     "output_type": "stream",
     "text": [
      "Using TensorFlow backend.\n"
     ]
    }
   ],
   "source": [
    "import os\n",
    "\n",
    "from sklearn.model_selection import train_test_split\n",
    "import matplotlib\n",
    "import argparse\n",
    "import random\n",
    "import numpy as np\n",
    "import csv\n",
    "import pandas as pd\n",
    "from datascience import *\n",
    "import tensorflow as tf\n",
    "from sklearn.feature_extraction.text import CountVectorizer\n",
    "from keras.models import Model\n",
    "from keras.models import Sequential, load_model\n",
    "\n",
    "from keras.activations import softmax\n",
    "from keras.preprocessing.sequence import pad_sequences\n",
    "from keras.utils import to_categorical\n",
    "from keras.layers import *\n",
    "from keras.optimizers import Adam\n",
    "from keras import Input\n",
    "from keras.preprocessing.text import Tokenizer\n",
    "from keras.utils import plot_model\n",
    "import keras\n",
    "#from keras.backend.tensorflow_backend import set_session\n",
    "#config = tf.ConfigProto()\n",
    "# config.gpu_options.allocator_type = 'BFC' #A \"Best-fit with coalescing\" algorithm, simplified from a version of dlmalloc.\n",
    "# config.gpu_options.per_process_gpu_memory_fraction = 0.7\n",
    "#config.gpu_options.allow_growth =True\n",
    "\n",
    "#set_session(tf.Session(config=config)) \n",
    "import re\n",
    "os.environ['PYTHONHASHSEED'] = '0'\n",
    "random.seed(1)\n",
    "np.random.seed(1)\n",
    "tf.set_random_seed(1)\n",
    "from keras.callbacks import *\n",
    "from keras.models import model_from_json\n",
    "import json\n",
    "\n"
   ]
  },
  {
   "cell_type": "code",
   "execution_count": 2,
   "metadata": {},
   "outputs": [],
   "source": [
    "def sanitize(string):\n",
    "    words = string.split(' ')\n",
    "    return words"
   ]
  },
  {
   "cell_type": "code",
   "execution_count": 3,
   "metadata": {},
   "outputs": [
    {
     "name": "stdout",
     "output_type": "stream",
     "text": [
      "Tue Jul 16 01:38:59 2019       \n",
      "+-----------------------------------------------------------------------------+\n",
      "| NVIDIA-SMI 418.56       Driver Version: 418.56       CUDA Version: 10.1     |\n",
      "|-------------------------------+----------------------+----------------------+\n",
      "| GPU  Name        Persistence-M| Bus-Id        Disp.A | Volatile Uncorr. ECC |\n",
      "| Fan  Temp  Perf  Pwr:Usage/Cap|         Memory-Usage | GPU-Util  Compute M. |\n",
      "|===============================+======================+======================|\n",
      "|   0  GeForce GTX 1080    Off  | 00000000:02:00.0 Off |                  N/A |\n",
      "|  0%   47C    P8     8W / 200W |    360MiB /  8118MiB |      0%      Default |\n",
      "+-------------------------------+----------------------+----------------------+\n",
      "                                                                               \n",
      "+-----------------------------------------------------------------------------+\n",
      "| Processes:                                                       GPU Memory |\n",
      "|  GPU       PID   Type   Process name                             Usage      |\n",
      "|=============================================================================|\n",
      "+-----------------------------------------------------------------------------+\n"
     ]
    }
   ],
   "source": [
    "!nvidia-smi\n"
   ]
  },
  {
   "cell_type": "code",
   "execution_count": 7,
   "metadata": {},
   "outputs": [
    {
     "name": "stdout",
     "output_type": "stream",
     "text": [
      "   TRAIN_PAWS_Wiki_id   PPDB_id  \\\n",
      "0                21.0  160456.0   \n",
      "1                21.0  243017.0   \n",
      "2                33.0  395059.0   \n",
      "3                33.0  395061.0   \n",
      "4                33.0  395071.0   \n",
      "\n",
      "                                               sent1  \\\n",
      "0  For their performances in the game , quarterba...   \n",
      "1  For their performances in the game , quarterba...   \n",
      "2  The leaves are generally 1.5-4 mm long and 0.2...   \n",
      "3  The leaves are generally 1.5-4 mm long and 0.2...   \n",
      "4  The leaves are generally 1.5-4 mm long and 0.2...   \n",
      "\n",
      "                                               sent2      paraphrase1  \\\n",
      "0  Quarterback P. J. Williams and Defensive Back ...   most valuable    \n",
      "1  Quarterback P. J. Williams and Defensive Back ...         's most    \n",
      "2  The leaves are usually 1.5-4 mm long and 0.2-0...   are generally    \n",
      "3  The leaves are usually 1.5-4 mm long and 0.2-0...   are generally    \n",
      "4  The leaves are usually 1.5-4 mm long and 0.2-0...   are generally    \n",
      "\n",
      "     paraphrase2  label                                            labels1  \\\n",
      "0      valuable       0  O O O O O O O O O O O O O O O O O O O O O B E O O   \n",
      "1          most       0  O O O O O O O O O O O O O O O O O O O O B E O O O   \n",
      "2   are usually       1                            O O B E O O O O O O O O   \n",
      "3   are usually       1                            O O B E O O O O O O O O   \n",
      "4   are usually       1                            O O B E O O O O O O O O   \n",
      "\n",
      "                                             labels2  \n",
      "0  O O O O O O O O O O O O O S O O O O O O O O O O O  \n",
      "1  O O O O O O O O O O O O S O O O O O O O O O O O O  \n",
      "2                            O O B E O O O O O O O O  \n",
      "3                            O O B E O O O O O O O O  \n",
      "4                            O O B E O O O O O O O O  \n"
     ]
    }
   ],
   "source": [
    "#read csv\n",
    "\n",
    "train = pd.read_csv(\"../dataset/Phrase_Level/PAWS_Wiki/LABELED_PAWS_Wiki_TRAIN.tsv\", sep='\\t')\n",
    "\n",
    "dev = pd.read_csv(\"../dataset/Phrase_Level/PAWS_Wiki/LABELED_PAWS_Wiki_DEV.tsv\", sep='\\t')\n",
    "\n",
    "test = pd.read_csv(\"../dataset/Phrase_Level/PAWS_Wiki/LABELED_PAWS_Wiki_TEST.tsv\", sep='\\t')\n",
    "\n",
    "\n",
    "print(train[:5])\n",
    "\n",
    "train['title1_tokenized'] = \\\n",
    "    train.loc[:, 'sent1'] \\\n",
    "         .apply(sanitize)\n",
    "train['title2_tokenized'] = \\\n",
    "    train.loc[:, 'sent2'] \\\n",
    "         .apply(sanitize)\n",
    "\n",
    "\n",
    "dev['title1_tokenized'] = \\\n",
    "    dev.loc[:, 'sent1'] \\\n",
    "         .apply(sanitize)\n",
    "dev['title2_tokenized'] = \\\n",
    "    dev.loc[:, 'sent2'] \\\n",
    "         .apply(sanitize)\n"
   ]
  },
  {
   "cell_type": "code",
   "execution_count": 14,
   "metadata": {},
   "outputs": [
    {
     "data": {
      "text/html": [
       "<div>\n",
       "<style scoped>\n",
       "    .dataframe tbody tr th:only-of-type {\n",
       "        vertical-align: middle;\n",
       "    }\n",
       "\n",
       "    .dataframe tbody tr th {\n",
       "        vertical-align: top;\n",
       "    }\n",
       "\n",
       "    .dataframe thead th {\n",
       "        text-align: right;\n",
       "    }\n",
       "</style>\n",
       "<table border=\"1\" class=\"dataframe\">\n",
       "  <thead>\n",
       "    <tr style=\"text-align: right;\">\n",
       "      <th></th>\n",
       "      <th>TRAIN_PAWS_Wiki_id</th>\n",
       "      <th>PPDB_id</th>\n",
       "      <th>sent1</th>\n",
       "      <th>sent2</th>\n",
       "      <th>paraphrase1</th>\n",
       "      <th>paraphrase2</th>\n",
       "      <th>label</th>\n",
       "      <th>labels1</th>\n",
       "      <th>labels2</th>\n",
       "      <th>title1_tokenized</th>\n",
       "      <th>title2_tokenized</th>\n",
       "    </tr>\n",
       "  </thead>\n",
       "  <tbody>\n",
       "    <tr>\n",
       "      <th>0</th>\n",
       "      <td>21.0</td>\n",
       "      <td>160456.0</td>\n",
       "      <td>For their performances in the game , quarterba...</td>\n",
       "      <td>Quarterback P. J. Williams and Defensive Back ...</td>\n",
       "      <td>most valuable</td>\n",
       "      <td>valuable</td>\n",
       "      <td>0</td>\n",
       "      <td>O O O O O O O O O O O O O O O O O O O O O B E O O</td>\n",
       "      <td>O O O O O O O O O O O O O S O O O O O O O O O O O</td>\n",
       "      <td>[For, their, performances, in, the, game, ,, q...</td>\n",
       "      <td>[Quarterback, P., J., Williams, and, Defensive...</td>\n",
       "    </tr>\n",
       "    <tr>\n",
       "      <th>1</th>\n",
       "      <td>21.0</td>\n",
       "      <td>243017.0</td>\n",
       "      <td>For their performances in the game , quarterba...</td>\n",
       "      <td>Quarterback P. J. Williams and Defensive Back ...</td>\n",
       "      <td>'s most</td>\n",
       "      <td>most</td>\n",
       "      <td>0</td>\n",
       "      <td>O O O O O O O O O O O O O O O O O O O O B E O O O</td>\n",
       "      <td>O O O O O O O O O O O O S O O O O O O O O O O O O</td>\n",
       "      <td>[For, their, performances, in, the, game, ,, q...</td>\n",
       "      <td>[Quarterback, P., J., Williams, and, Defensive...</td>\n",
       "    </tr>\n",
       "    <tr>\n",
       "      <th>2</th>\n",
       "      <td>33.0</td>\n",
       "      <td>395059.0</td>\n",
       "      <td>The leaves are generally 1.5-4 mm long and 0.2...</td>\n",
       "      <td>The leaves are usually 1.5-4 mm long and 0.2-0...</td>\n",
       "      <td>are generally</td>\n",
       "      <td>are usually</td>\n",
       "      <td>1</td>\n",
       "      <td>O O B E O O O O O O O O</td>\n",
       "      <td>O O B E O O O O O O O O</td>\n",
       "      <td>[The, leaves, are, generally, 1.5-4, mm, long,...</td>\n",
       "      <td>[The, leaves, are, usually, 1.5-4, mm, long, a...</td>\n",
       "    </tr>\n",
       "    <tr>\n",
       "      <th>3</th>\n",
       "      <td>33.0</td>\n",
       "      <td>395061.0</td>\n",
       "      <td>The leaves are generally 1.5-4 mm long and 0.2...</td>\n",
       "      <td>The leaves are usually 1.5-4 mm long and 0.2-0...</td>\n",
       "      <td>are generally</td>\n",
       "      <td>are usually</td>\n",
       "      <td>1</td>\n",
       "      <td>O O B E O O O O O O O O</td>\n",
       "      <td>O O B E O O O O O O O O</td>\n",
       "      <td>[The, leaves, are, generally, 1.5-4, mm, long,...</td>\n",
       "      <td>[The, leaves, are, usually, 1.5-4, mm, long, a...</td>\n",
       "    </tr>\n",
       "    <tr>\n",
       "      <th>4</th>\n",
       "      <td>33.0</td>\n",
       "      <td>395071.0</td>\n",
       "      <td>The leaves are generally 1.5-4 mm long and 0.2...</td>\n",
       "      <td>The leaves are usually 1.5-4 mm long and 0.2-0...</td>\n",
       "      <td>are generally</td>\n",
       "      <td>are usually</td>\n",
       "      <td>1</td>\n",
       "      <td>O O B E O O O O O O O O</td>\n",
       "      <td>O O B E O O O O O O O O</td>\n",
       "      <td>[The, leaves, are, generally, 1.5-4, mm, long,...</td>\n",
       "      <td>[The, leaves, are, usually, 1.5-4, mm, long, a...</td>\n",
       "    </tr>\n",
       "  </tbody>\n",
       "</table>\n",
       "</div>"
      ],
      "text/plain": [
       "   TRAIN_PAWS_Wiki_id   PPDB_id  \\\n",
       "0                21.0  160456.0   \n",
       "1                21.0  243017.0   \n",
       "2                33.0  395059.0   \n",
       "3                33.0  395061.0   \n",
       "4                33.0  395071.0   \n",
       "\n",
       "                                               sent1  \\\n",
       "0  For their performances in the game , quarterba...   \n",
       "1  For their performances in the game , quarterba...   \n",
       "2  The leaves are generally 1.5-4 mm long and 0.2...   \n",
       "3  The leaves are generally 1.5-4 mm long and 0.2...   \n",
       "4  The leaves are generally 1.5-4 mm long and 0.2...   \n",
       "\n",
       "                                               sent2      paraphrase1  \\\n",
       "0  Quarterback P. J. Williams and Defensive Back ...   most valuable    \n",
       "1  Quarterback P. J. Williams and Defensive Back ...         's most    \n",
       "2  The leaves are usually 1.5-4 mm long and 0.2-0...   are generally    \n",
       "3  The leaves are usually 1.5-4 mm long and 0.2-0...   are generally    \n",
       "4  The leaves are usually 1.5-4 mm long and 0.2-0...   are generally    \n",
       "\n",
       "     paraphrase2  label                                            labels1  \\\n",
       "0      valuable       0  O O O O O O O O O O O O O O O O O O O O O B E O O   \n",
       "1          most       0  O O O O O O O O O O O O O O O O O O O O B E O O O   \n",
       "2   are usually       1                            O O B E O O O O O O O O   \n",
       "3   are usually       1                            O O B E O O O O O O O O   \n",
       "4   are usually       1                            O O B E O O O O O O O O   \n",
       "\n",
       "                                             labels2  \\\n",
       "0  O O O O O O O O O O O O O S O O O O O O O O O O O   \n",
       "1  O O O O O O O O O O O O S O O O O O O O O O O O O   \n",
       "2                            O O B E O O O O O O O O   \n",
       "3                            O O B E O O O O O O O O   \n",
       "4                            O O B E O O O O O O O O   \n",
       "\n",
       "                                    title1_tokenized  \\\n",
       "0  [For, their, performances, in, the, game, ,, q...   \n",
       "1  [For, their, performances, in, the, game, ,, q...   \n",
       "2  [The, leaves, are, generally, 1.5-4, mm, long,...   \n",
       "3  [The, leaves, are, generally, 1.5-4, mm, long,...   \n",
       "4  [The, leaves, are, generally, 1.5-4, mm, long,...   \n",
       "\n",
       "                                    title2_tokenized  \n",
       "0  [Quarterback, P., J., Williams, and, Defensive...  \n",
       "1  [Quarterback, P., J., Williams, and, Defensive...  \n",
       "2  [The, leaves, are, usually, 1.5-4, mm, long, a...  \n",
       "3  [The, leaves, are, usually, 1.5-4, mm, long, a...  \n",
       "4  [The, leaves, are, usually, 1.5-4, mm, long, a...  "
      ]
     },
     "execution_count": 14,
     "metadata": {},
     "output_type": "execute_result"
    }
   ],
   "source": [
    "train.head()"
   ]
  },
  {
   "cell_type": "code",
   "execution_count": null,
   "metadata": {},
   "outputs": [],
   "source": [
    "embeddings_index = {}\n",
    "f = open('../glove.840B.300d.txt')\n",
    "for line in f:\n",
    "    values = line.split(' ')\n",
    "    word = values[0] ## The first entry is the word\n",
    "    coefs = np.asarray(values[1:], dtype='float32') ## These are the vecotrs representing the embedding for the word\n",
    "    embeddings_index[word] = coefs\n",
    "\n",
    "f.close()\n",
    "\n",
    "print('GloVe data loaded')"
   ]
  },
  {
   "cell_type": "code",
   "execution_count": 23,
   "metadata": {},
   "outputs": [
    {
     "data": {
      "text/plain": [
       "array([\"b'What are the most common traffic convictions in Arizona , and how does the severity of the convictions differ in Arkansas ?'\",\n",
       "       \"b'Which are in your opinion the most beautiful and the most depressing truths about life ?'\",\n",
       "       \"b'Is nuclear energy renewable energy ?'\", ...,\n",
       "       \"b'Did Barnacle really raise $ 7M just to close a few months later ?'\",\n",
       "       'b\"What are the major flaws with Donald Trump \\'s and Hillary Clinton \\'s foreign policy agendas ?\"',\n",
       "       'b\"`` Why do many Europeans think Americans are `` dumb `` even when the U.S. has the highest GDP in the world ? \\'\\'\"'],\n",
       "      dtype='<U244')"
      ]
     },
     "execution_count": 23,
     "metadata": {},
     "output_type": "execute_result"
    }
   ],
   "source": [
    "train_Tb.column(\"sent1\")"
   ]
  },
  {
   "cell_type": "code",
   "execution_count": 126,
   "metadata": {},
   "outputs": [],
   "source": [
    "#tokenize sentences\n",
    "def normalize_and_split(sentence):\n",
    "    s=sentence.split()\n",
    "    l=[x.lower() for x in s]\n",
    "    \n",
    "    return l\n",
    "\n",
    "def normalize_and_split2(sentence):\n",
    "    s=sentence.split()\n",
    "    l=[x.lower() for x in s]\n",
    "    first_word=(l[0])[2:]\n",
    "    l[0]=first_word\n",
    "    return l\n",
    "\n",
    "#tokenize labels\n",
    "\n",
    "def t_label(str):\n",
    "    ret=[]\n",
    "    s = str.split() #split into individual alphabets\n",
    "    for x in s:\n",
    "        if x=='O':\n",
    "            ret.append(0)\n",
    "        else:\n",
    "            ret.append(1)\n",
    "    for t in range(MAX_SEQUENCE_LENGTH-len(s)): \n",
    "        ret.append(0)\n",
    "    return ret\n"
   ]
  },
  {
   "cell_type": "code",
   "execution_count": 110,
   "metadata": {},
   "outputs": [
    {
     "data": {
      "text/plain": [
       "['i', 'like', 'to', 'eateat', 'pie']"
      ]
     },
     "execution_count": 110,
     "metadata": {},
     "output_type": "execute_result"
    }
   ],
   "source": [
    "normalize_and_split(\"I like to eateat piE\")"
   ]
  },
  {
   "cell_type": "code",
   "execution_count": 65,
   "metadata": {},
   "outputs": [
    {
     "data": {
      "text/plain": [
       "['i', 'am', 'liking', 'itt']"
      ]
     },
     "execution_count": 65,
     "metadata": {},
     "output_type": "execute_result"
    }
   ],
   "source": [
    "normalize_and_split(\"b'I Am LiKINg iTt\")"
   ]
  },
  {
   "cell_type": "code",
   "execution_count": 95,
   "metadata": {},
   "outputs": [],
   "source": [
    "train_Tb=Table.read_table(\"../dataset/Phrase_Level/PAWS_Wiki/LABELED_PAWS_Wiki_TRAIN.tsv\")\n",
    "dev_Tb=Table.read_table(\"../dataset/Phrase_Level/PAWS_Wiki/LABELED_PAWS_Wiki_DEV.tsv\")\n",
    "test_Tb=Table.read_table(\"../dataset/Phrase_Level/PAWS_Wiki/LABELED_PAWS_Wiki_TEST.tsv\")\n",
    "\n",
    "train_Tb_Q=Table.read_table(\"../dataset/Phrase_Level/PAWS_QQP/LABELED_PAWS_QQP_TRAIN.tsv\")\n",
    "dev_Tb_Q=Table.read_table(\"../dataset/Phrase_Level/PAWS_QQP/LABELED_PAWS_QQP_DEV.tsv\")\n",
    "\n",
    "dev_Tb_S=Table.read_table(\"../dataset/Phrase_Level/SNLI/SNLI_PPDB_DEV.tsv\")\n",
    "test_Tb_S=Table.read_table(\"../dataset/Phrase_Level/SNLI/PPDB_SNLI_TEST.tsv\")\n",
    "\n"
   ]
  },
  {
   "cell_type": "code",
   "execution_count": 96,
   "metadata": {},
   "outputs": [
    {
     "data": {
      "text/html": [
       "<table border=\"1\" class=\"dataframe\">\n",
       "    <thead>\n",
       "        <tr>\n",
       "            <th>SNLI_PairID</th> <th>PPDB_id</th> <th>sent1</th> <th>sent2</th> <th>paraphrase1</th> <th>paraphrase2</th> <th>gold_label</th> <th>labels1</th> <th>labels2</th>\n",
       "        </tr>\n",
       "    </thead>\n",
       "    <tbody>\n",
       "        <tr>\n",
       "            <td>6526219567.jpg#4r1e</td> <td>20265  </td> <td>A statue at a museum that no seems to be looking at.</td> <td>There is a statue that not many people seem to be intere ...</td> <td> seems to be </td> <td> seem to be </td> <td>entailment</td> <td>O O O O O O O B I E O O</td> <td>O O O O O O O O B I E O O</td>\n",
       "        </tr>\n",
       "        <tr>\n",
       "            <td>6526219567.jpg#4r1e</td> <td>34976  </td> <td>A statue at a museum that no seems to be looking at.</td> <td>There is a statue that not many people seem to be intere ...</td> <td> seems to be </td> <td> seem to be </td> <td>entailment</td> <td>O O O O O O O B I E O O</td> <td>O O O O O O O O B I E O O</td>\n",
       "        </tr>\n",
       "        <tr>\n",
       "            <td>6526219567.jpg#4r1e</td> <td>61957  </td> <td>A statue at a museum that no seems to be looking at.</td> <td>There is a statue that not many people seem to be intere ...</td> <td> seems to be </td> <td> seem to be </td> <td>entailment</td> <td>O O O O O O O B I E O O</td> <td>O O O O O O O O B I E O O</td>\n",
       "        </tr>\n",
       "        <tr>\n",
       "            <td>6526219567.jpg#4r1e</td> <td>125335 </td> <td>A statue at a museum that no seems to be looking at.</td> <td>There is a statue that not many people seem to be intere ...</td> <td> seems to    </td> <td> seem to    </td> <td>entailment</td> <td>O O O O O O O B E O O O</td> <td>O O O O O O O O B E O O O</td>\n",
       "        </tr>\n",
       "    </tbody>\n",
       "</table>\n",
       "<p>... (269 rows omitted)</p>"
      ],
      "text/plain": [
       "<IPython.core.display.HTML object>"
      ]
     },
     "metadata": {},
     "output_type": "display_data"
    }
   ],
   "source": [
    "test_Tb_S.show(4)"
   ]
  },
  {
   "cell_type": "code",
   "execution_count": 97,
   "metadata": {},
   "outputs": [],
   "source": [
    "def keep_one_para_pair(Tb):   #takes in origin table, keeps only one pair of paraphrase per sentence, and then return the modified table\n",
    "    \n",
    "    to_drop=[]\n",
    "    pair_id=Tb.column(0)\n",
    "    for x in range(Tb.num_rows-1):\n",
    "        if pair_id[x]==pair_id[x+1]:\n",
    "            to_drop.append(x)\n",
    "    new_Tb=Tb.exclude(to_drop)\n",
    "    return new_Tb"
   ]
  },
  {
   "cell_type": "code",
   "execution_count": 118,
   "metadata": {},
   "outputs": [],
   "source": [
    "train_PAWS_Wiki=keep_one_para_pair(train_Tb)   #2739\n",
    "\n",
    "dev_PAWS_Wiki=keep_one_para_pair(dev_Tb)     #924\n",
    "\n",
    "test_PAWS_Wiki=keep_one_para_pair(test_Tb)   #1191\n",
    "\n",
    "train_PAWS_QQP=keep_one_para_pair(train_Tb_Q)  #791\n",
    "\n",
    "dev_PAWS_QQP=keep_one_para_pair(dev_Tb_Q)     #63\n",
    "\n",
    "dev_SNLI=keep_one_para_pair(dev_Tb_S)       #308   \n",
    "\n",
    "test_SNLI=keep_one_para_pair(test_Tb_S)       #229\n"
   ]
  },
  {
   "cell_type": "code",
   "execution_count": null,
   "metadata": {},
   "outputs": [],
   "source": []
  },
  {
   "cell_type": "code",
   "execution_count": 99,
   "metadata": {},
   "outputs": [
    {
     "data": {
      "text/html": [
       "<table border=\"1\" class=\"dataframe\">\n",
       "    <thead>\n",
       "        <tr>\n",
       "            <th>SNLI_PairID</th> <th>PPDB_id</th> <th>sent1</th> <th>sent2</th> <th>paraphrase1</th> <th>paraphrase2</th> <th>gold_label</th> <th>labels1</th> <th>labels2</th>\n",
       "        </tr>\n",
       "    </thead>\n",
       "    <tbody>\n",
       "        <tr>\n",
       "            <td>6526219567.jpg#4r1e</td> <td>1.10807e+06</td> <td>A statue at a museum that no seems to be looking at.        </td> <td>There is a statue that not many people seem to be intere ...</td> <td> seems to       </td> <td> seem to   </td> <td>entailment</td> <td>O O O O O O O B E O O O        </td> <td>O O O O O O O O B E O O O</td>\n",
       "        </tr>\n",
       "        <tr>\n",
       "            <td>4460943467.jpg#0r1e</td> <td>302929     </td> <td>3 young man in hoods standing in the middle of a quiet s ...</td> <td>Three hood wearing people stand in a street.                </td> <td> standing in    </td> <td> stand in  </td> <td>entailment</td> <td>O O O O O B E O O O O O O O O O</td> <td>O O O O B E O O          </td>\n",
       "        </tr>\n",
       "        <tr>\n",
       "            <td>3036382555.jpg#0r1n</td> <td>1.00273e+06</td> <td>The two young girls are dressed as fairies, and are play ...</td> <td>The two girls play in the Autumn.                           </td> <td> playing in     </td> <td> play in   </td> <td>neutral   </td> <td>O O O O O O O O O O B E O O O  </td> <td>O O O B E O O            </td>\n",
       "        </tr>\n",
       "        <tr>\n",
       "            <td>4479330885.jpg#3r1e</td> <td>958598     </td> <td>Several younger people sitting in front of a statue.        </td> <td>several young people sitting outside                        </td> <td> younger people </td> <td> young     </td> <td>neutral   </td> <td>O B E O O O O O O              </td> <td>O S O O O                </td>\n",
       "        </tr>\n",
       "    </tbody>\n",
       "</table>\n",
       "<p>... (225 rows omitted)</p>"
      ],
      "text/plain": [
       "<IPython.core.display.HTML object>"
      ]
     },
     "metadata": {},
     "output_type": "display_data"
    }
   ],
   "source": [
    "test_SNLI.show(4)"
   ]
  },
  {
   "cell_type": "code",
   "execution_count": null,
   "metadata": {},
   "outputs": [],
   "source": []
  },
  {
   "cell_type": "code",
   "execution_count": 137,
   "metadata": {},
   "outputs": [],
   "source": [
    "def help_norm(Tb):\n",
    "    \n",
    "      \n",
    "    if Tb is train_PAWS_QQP or Tb is dev_PAWS_QQP:\n",
    "        a=Tb.apply(normalize_and_split2, \"sent1\")\n",
    "        b=Tb.apply(normalize_and_split2, \"sent2\")\n",
    "    else:\n",
    "        a=Tb.apply(normalize_and_split, \"sent1\")\n",
    "        b=Tb.apply(normalize_and_split, \"sent2\")    \n",
    "        \n",
    "    c=Tb.apply(t_label, \"labels1\")\n",
    "    d=Tb.apply(t_label, \"labels2\")\n",
    "    \n",
    "    return a,b,c,d"
   ]
  },
  {
   "cell_type": "code",
   "execution_count": 138,
   "metadata": {},
   "outputs": [],
   "source": [
    "#tokenize sentences and labels\n",
    "\n",
    "TRPWS1, TRPWS2, TRPWL1, TRPWL2=help_norm(train_PAWS_Wiki)   #training paws wiki sentence 1, btw, and the rest are named in a similar fashion\n",
    "\n",
    "DPWS1, DPWS2,DPWL1, DPWL2 = help_norm(dev_PAWS_Wiki)\n",
    "\n",
    "TEPWS1, TEPWS2, TEPWL1, TEPWL2=help_norm(test_PAWS_Wiki)\n",
    "\n",
    "TRPQS1, TRPQS2, TRPQL1, TRPQL2=help_norm(train_PAWS_QQP)\n",
    "\n",
    "DPQS1, DPQS2, DPQL1, DPQL2=help_norm(dev_PAWS_QQP)\n",
    "\n",
    "DSS1, DSS2, DSL1, DSL2 = help_norm(dev_SNLI)\n",
    "\n",
    "TESS1, TESS2, TESL1, TESL2=help_norm(test_SNLI)\n",
    "\n",
    "\n"
   ]
  },
  {
   "cell_type": "code",
   "execution_count": null,
   "metadata": {},
   "outputs": [],
   "source": [
    "def construct_Tb\n"
   ]
  },
  {
   "cell_type": "code",
   "execution_count": null,
   "metadata": {},
   "outputs": [],
   "source": []
  },
  {
   "cell_type": "code",
   "execution_count": 107,
   "metadata": {},
   "outputs": [
    {
     "ename": "ValueError",
     "evalue": "Column length mismatch. New column does not have the same number of rows as table.",
     "output_type": "error",
     "traceback": [
      "\u001b[0;31m---------------------------------------------------------------------------\u001b[0m",
      "\u001b[0;31mValueError\u001b[0m                                Traceback (most recent call last)",
      "\u001b[0;32m<ipython-input-107-f0b92d0038cd>\u001b[0m in \u001b[0;36m<module>\u001b[0;34m\u001b[0m\n\u001b[0;32m----> 1\u001b[0;31m \u001b[0mtrainTb\u001b[0m\u001b[0;34m=\u001b[0m\u001b[0mtrain_Tb\u001b[0m\u001b[0;34m.\u001b[0m\u001b[0mwith_columns\u001b[0m\u001b[0;34m(\u001b[0m\u001b[0;34m\"sent1_token\"\u001b[0m\u001b[0;34m,\u001b[0m \u001b[0mtrain_Tb_sen1\u001b[0m\u001b[0;34m,\u001b[0m \u001b[0;34m\"sent2_token\"\u001b[0m\u001b[0;34m,\u001b[0m \u001b[0mtrain_Tb_sen2\u001b[0m\u001b[0;34m,\u001b[0m \u001b[0;34m\"label1_token\"\u001b[0m\u001b[0;34m,\u001b[0m \u001b[0mtrain_Tb_labels1\u001b[0m\u001b[0;34m,\u001b[0m \u001b[0;34m\"label2_token\"\u001b[0m\u001b[0;34m,\u001b[0m \u001b[0mtrain_Tb_labels2\u001b[0m\u001b[0;34m)\u001b[0m\u001b[0;34m\u001b[0m\u001b[0m\n\u001b[0m\u001b[1;32m      2\u001b[0m \u001b[0mdevTb\u001b[0m\u001b[0;34m=\u001b[0m\u001b[0mdev_Tb\u001b[0m\u001b[0;34m.\u001b[0m\u001b[0mwith_columns\u001b[0m\u001b[0;34m(\u001b[0m\u001b[0;34m\"sent1_token\"\u001b[0m\u001b[0;34m,\u001b[0m \u001b[0mdev_Tb_sen1\u001b[0m\u001b[0;34m,\u001b[0m \u001b[0;34m\"sent2_token\"\u001b[0m\u001b[0;34m,\u001b[0m \u001b[0mdev_Tb_sen2\u001b[0m\u001b[0;34m,\u001b[0m\u001b[0;34m\"label1_token\"\u001b[0m\u001b[0;34m,\u001b[0m \u001b[0mdev_Tb_labels1\u001b[0m\u001b[0;34m,\u001b[0m \u001b[0;34m\"label2_token\"\u001b[0m\u001b[0;34m,\u001b[0m \u001b[0mdev_Tb_labels2\u001b[0m\u001b[0;34m)\u001b[0m\u001b[0;34m\u001b[0m\u001b[0m\n",
      "\u001b[0;32m/usr/local/lib/python3.5/dist-packages/datascience/tables.py\u001b[0m in \u001b[0;36mwith_columns\u001b[0;34m(self, *labels_and_values)\u001b[0m\n\u001b[1;32m   1681\u001b[0m         \u001b[0;32mfor\u001b[0m \u001b[0mi\u001b[0m \u001b[0;32min\u001b[0m \u001b[0mrange\u001b[0m\u001b[0;34m(\u001b[0m\u001b[0;36m0\u001b[0m\u001b[0;34m,\u001b[0m \u001b[0mlen\u001b[0m\u001b[0;34m(\u001b[0m\u001b[0mlabels_and_values\u001b[0m\u001b[0;34m)\u001b[0m\u001b[0;34m,\u001b[0m \u001b[0;36m2\u001b[0m\u001b[0;34m)\u001b[0m\u001b[0;34m:\u001b[0m\u001b[0;34m\u001b[0m\u001b[0m\n\u001b[1;32m   1682\u001b[0m             \u001b[0mlabel\u001b[0m\u001b[0;34m,\u001b[0m \u001b[0mvalues\u001b[0m \u001b[0;34m=\u001b[0m \u001b[0mlabels_and_values\u001b[0m\u001b[0;34m[\u001b[0m\u001b[0mi\u001b[0m\u001b[0;34m]\u001b[0m\u001b[0;34m,\u001b[0m \u001b[0mlabels_and_values\u001b[0m\u001b[0;34m[\u001b[0m\u001b[0mi\u001b[0m\u001b[0;34m+\u001b[0m\u001b[0;36m1\u001b[0m\u001b[0;34m]\u001b[0m\u001b[0;34m\u001b[0m\u001b[0m\n\u001b[0;32m-> 1683\u001b[0;31m             \u001b[0mself\u001b[0m \u001b[0;34m=\u001b[0m \u001b[0mself\u001b[0m\u001b[0;34m.\u001b[0m\u001b[0mwith_column\u001b[0m\u001b[0;34m(\u001b[0m\u001b[0mlabel\u001b[0m\u001b[0;34m,\u001b[0m \u001b[0mvalues\u001b[0m\u001b[0;34m)\u001b[0m\u001b[0;34m\u001b[0m\u001b[0m\n\u001b[0m\u001b[1;32m   1684\u001b[0m         \u001b[0;32mreturn\u001b[0m \u001b[0mself\u001b[0m\u001b[0;34m\u001b[0m\u001b[0m\n\u001b[1;32m   1685\u001b[0m \u001b[0;34m\u001b[0m\u001b[0m\n",
      "\u001b[0;32m/usr/local/lib/python3.5/dist-packages/datascience/tables.py\u001b[0m in \u001b[0;36mwith_column\u001b[0;34m(self, label, values, *rest)\u001b[0m\n\u001b[1;32m   1604\u001b[0m \u001b[0;34m\u001b[0m\u001b[0m\n\u001b[1;32m   1605\u001b[0m         \u001b[0mnew_table\u001b[0m \u001b[0;34m=\u001b[0m \u001b[0mself\u001b[0m\u001b[0;34m.\u001b[0m\u001b[0mcopy\u001b[0m\u001b[0;34m(\u001b[0m\u001b[0;34m)\u001b[0m\u001b[0;34m\u001b[0m\u001b[0m\n\u001b[0;32m-> 1606\u001b[0;31m         \u001b[0mnew_table\u001b[0m\u001b[0;34m.\u001b[0m\u001b[0mappend_column\u001b[0m\u001b[0;34m(\u001b[0m\u001b[0mlabel\u001b[0m\u001b[0;34m,\u001b[0m \u001b[0mvalues\u001b[0m\u001b[0;34m)\u001b[0m\u001b[0;34m\u001b[0m\u001b[0m\n\u001b[0m\u001b[1;32m   1607\u001b[0m         \u001b[0;32mreturn\u001b[0m \u001b[0mnew_table\u001b[0m\u001b[0;34m\u001b[0m\u001b[0m\n\u001b[1;32m   1608\u001b[0m \u001b[0;34m\u001b[0m\u001b[0m\n",
      "\u001b[0;32m/usr/local/lib/python3.5/dist-packages/datascience/tables.py\u001b[0m in \u001b[0;36mappend_column\u001b[0;34m(self, label, values)\u001b[0m\n\u001b[1;32m    484\u001b[0m \u001b[0;34m\u001b[0m\u001b[0m\n\u001b[1;32m    485\u001b[0m         \u001b[0;32mif\u001b[0m \u001b[0mself\u001b[0m\u001b[0;34m.\u001b[0m\u001b[0mnum_rows\u001b[0m \u001b[0;34m!=\u001b[0m \u001b[0;36m0\u001b[0m \u001b[0;32mand\u001b[0m \u001b[0mlen\u001b[0m\u001b[0;34m(\u001b[0m\u001b[0mvalues\u001b[0m\u001b[0;34m)\u001b[0m \u001b[0;34m!=\u001b[0m \u001b[0mself\u001b[0m\u001b[0;34m.\u001b[0m\u001b[0mnum_rows\u001b[0m\u001b[0;34m:\u001b[0m\u001b[0;34m\u001b[0m\u001b[0m\n\u001b[0;32m--> 486\u001b[0;31m             raise ValueError('Column length mismatch. New column does not have '\n\u001b[0m\u001b[1;32m    487\u001b[0m                              'the same number of rows as table.')\n\u001b[1;32m    488\u001b[0m         \u001b[0;32melse\u001b[0m\u001b[0;34m:\u001b[0m\u001b[0;34m\u001b[0m\u001b[0m\n",
      "\u001b[0;31mValueError\u001b[0m: Column length mismatch. New column does not have the same number of rows as table."
     ]
    }
   ],
   "source": [
    "trainTb=train_Tb.with_columns(\"sent1_token\", train_Tb_sen1, \"sent2_token\", train_Tb_sen2, \"label1_token\", train_Tb_labels1, \"label2_token\", train_Tb_labels2)\n",
    "devTb=dev_Tb.with_columns(\"sent1_token\", dev_Tb_sen1, \"sent2_token\", dev_Tb_sen2,\"label1_token\", dev_Tb_labels1, \"label2_token\", dev_Tb_labels2)"
   ]
  },
  {
   "cell_type": "code",
   "execution_count": null,
   "metadata": {},
   "outputs": [],
   "source": []
  },
  {
   "cell_type": "code",
   "execution_count": 18,
   "metadata": {},
   "outputs": [
    {
     "name": "stdout",
     "output_type": "stream",
     "text": [
      "34\n",
      "34\n",
      "36\n",
      "35\n"
     ]
    }
   ],
   "source": [
    "max=0\n",
    "for x in trainTb.column(\"sent1_token\"):\n",
    "    if max<len(x):\n",
    "        max=len(x)\n",
    "print(max)\n",
    "\n",
    "max=0\n",
    "for x in trainTb.column(\"sent2_token\"):\n",
    "    if max<len(x):\n",
    "        max=len(x)\n",
    "print(max)\n",
    "\n",
    "max=0\n",
    "for x in devTb.column(\"sent1_token\"):\n",
    "    if max<len(x):\n",
    "        max=len(x)\n",
    "print(max)\n",
    "\n",
    "max=0\n",
    "for x in devTb.column(\"sent2_token\"):\n",
    "    if max<len(x):\n",
    "        max=len(x)\n",
    "print(max)\n",
    "\n",
    "#max seq length say 36"
   ]
  },
  {
   "cell_type": "code",
   "execution_count": 32,
   "metadata": {},
   "outputs": [],
   "source": [
    "tl1=trainTb.column(\"label1_token\")\n",
    "tl2=trainTb.column(\"label2_token\")\n",
    "dl1=devTb.column(\"label1_token\")\n",
    "dl2=devTb.column(\"label2_token\")"
   ]
  },
  {
   "cell_type": "code",
   "execution_count": 33,
   "metadata": {},
   "outputs": [
    {
     "name": "stdout",
     "output_type": "stream",
     "text": [
      "5460\n",
      "7302\n"
     ]
    }
   ],
   "source": [
    "from keras.preprocessing.text import Tokenizer\n",
    "from keras.preprocessing.sequence import pad_sequences\n",
    "from keras.utils import to_categorical\n",
    "\n",
    "\n",
    "MAX_NUM_WORDS = 10000\n",
    "MAX_SEQUENCE_LENGTH = 36\n",
    "\n",
    "train_corpus = np.append(trainTb.column(\"sent1_token\"), trainTb.column(\"sent2_token\"))\n",
    "\n",
    "#create a dictionary\n",
    "\n",
    "tokenizer = keras \\\n",
    "    .preprocessing \\\n",
    "    .text \\\n",
    "    .Tokenizer(num_words=MAX_NUM_WORDS)\n",
    "\n",
    "#corpus.shape\n",
    "tokenizer.fit_on_texts(train_corpus)\n",
    "tokenizer.texts_to_sequences(train_corpus)\n",
    "\n",
    "x1_train = tokenizer \\\n",
    "    .texts_to_sequences(train_Tb_sen1)\n",
    "x2_train = tokenizer \\\n",
    "    .texts_to_sequences(train_Tb_sen2)\n",
    "\n",
    "\n",
    "print(tokenizer.document_count)\n",
    "\n",
    "\n",
    "\n",
    "dev_corpus = np.append(devTb.column(\"sent1_token\"), devTb.column(\"sent2_token\"))\n",
    "#corpus.shape\n",
    "tokenizer.fit_on_texts(dev_corpus)\n",
    "tokenizer.texts_to_sequences(dev_corpus)\n",
    "x1_dev = tokenizer \\\n",
    "    .texts_to_sequences(dev_Tb_sen1)\n",
    "x2_dev = tokenizer \\\n",
    "    .texts_to_sequences(dev_Tb_sen2)\n",
    "\n",
    "print(tokenizer.document_count)\n",
    "\n",
    "\n",
    "\n",
    "word_index = tokenizer.word_index\n",
    "\n",
    "\n",
    "\n"
   ]
  },
  {
   "cell_type": "code",
   "execution_count": 34,
   "metadata": {},
   "outputs": [],
   "source": [
    "\n",
    "x1_train = keras \\\n",
    "    .preprocessing \\\n",
    "    .sequence \\\n",
    "    .pad_sequences(x1_train, \n",
    "                   maxlen=MAX_SEQUENCE_LENGTH)\n",
    "\n",
    "\n",
    "x2_train = keras \\\n",
    "    .preprocessing \\\n",
    "    .sequence \\\n",
    "    .pad_sequences(x2_train, \n",
    "                   maxlen=MAX_SEQUENCE_LENGTH)\n",
    "\n",
    "x1_dev = keras \\\n",
    "    .preprocessing \\\n",
    "    .sequence \\\n",
    "    .pad_sequences(x1_dev, \n",
    "                   maxlen=MAX_SEQUENCE_LENGTH)\n",
    "\n",
    "\n",
    "x2_dev = keras \\\n",
    "    .preprocessing \\\n",
    "    .sequence \\\n",
    "    .pad_sequences(x2_dev, \n",
    "                   maxlen=MAX_SEQUENCE_LENGTH)\n",
    "\n",
    "\n",
    "\n",
    "\n"
   ]
  },
  {
   "cell_type": "code",
   "execution_count": 24,
   "metadata": {},
   "outputs": [
    {
     "data": {
      "text/plain": [
       "array([   0,    0,    0,    0,    0,    0,    0,    0,    0,    0,    0,\n",
       "        141,   91,  618,    5,    1,  278,    2, 2697,  994,  896,    4,\n",
       "        995,  257,  996,  814,  358,   34,  258,    1,  278,   18,   29,\n",
       "        997,  632,    3], dtype=int32)"
      ]
     },
     "execution_count": 24,
     "metadata": {},
     "output_type": "execute_result"
    }
   ],
   "source": [
    "x1_train[0]"
   ]
  },
  {
   "cell_type": "code",
   "execution_count": null,
   "metadata": {},
   "outputs": [],
   "source": []
  },
  {
   "cell_type": "code",
   "execution_count": 35,
   "metadata": {},
   "outputs": [],
   "source": [
    "## More code adapted from the keras reference (https://github.com/keras-team/keras/blob/master/examples/pretrained_word_embeddings.py)\n",
    "# prepare embedding matrix \n",
    "from keras.layers import Embedding\n",
    "from keras.initializers import Constant\n",
    "\n",
    "## EMBEDDING_DIM =  ## seems to need to match the embeddings_index dimension\n",
    "EMBEDDING_DIM = 300\n",
    "num_words = min(MAX_NUM_WORDS, len(word_index)) + 1\n",
    "embedding_matrix = np.zeros((num_words, EMBEDDING_DIM))\n",
    "for word, i in word_index.items():\n",
    "    if i > MAX_NUM_WORDS:\n",
    "        continue\n",
    "    embedding_vector = embeddings_index.get(word) ## This references the loaded embeddings dictionary\n",
    "    if embedding_vector is not None:\n",
    "        # words not found in embedding index will be all-zeros.\n",
    "        embedding_matrix[i] = embedding_vector\n",
    "\n",
    "# load pre-trained word embeddings into an Embedding layer\n",
    "# note that we set trainable = False so as to keep the embeddings fixed\n",
    "embedding_layer = Embedding(num_words,\n",
    "                            EMBEDDING_DIM,\n",
    "                            embeddings_initializer=Constant(embedding_matrix),\n",
    "                            input_length=MAX_SEQUENCE_LENGTH,\n",
    "                            trainable=False)"
   ]
  },
  {
   "cell_type": "code",
   "execution_count": 54,
   "metadata": {},
   "outputs": [],
   "source": [
    "class HAttLayer(Layer):\n",
    "    def __init__(self, attention_dim):\n",
    "        self.init = initializers.get('normal')\n",
    "        self.supports_masking = True\n",
    "        self.attention_dim = attention_dim\n",
    "        super(HAttLayer, self).__init__()\n",
    "\n",
    "    def build(self, input_shape):\n",
    "        assert len(input_shape) == 3\n",
    "        self.W = K.variable(self.init((input_shape[-1], self.attention_dim)))\n",
    "        self.b = K.variable(self.init((self.attention_dim, )))\n",
    "        self.u = K.variable(self.init((self.attention_dim, 1)))\n",
    "        self.trainable_weights = [self.W, self.b, self.u]\n",
    "        super(HAttLayer, self).build(input_shape)\n",
    "\n",
    "    def compute_mask(self, inputs, mask=None):\n",
    "        return mask\n",
    "\n",
    "    def call(self, x, mask=None):\n",
    "        # size of x :[batch_size, sel_len, attention_dim]\n",
    "        # size of u :[batch_size, attention_dim]\n",
    "        # uit = tanh(xW+b)\n",
    "        uit = K.tanh(K.bias_add(K.dot(x, self.W), self.b))\n",
    "        ait = K.dot(uit, self.u)\n",
    "        ait = K.squeeze(ait, -1)\n",
    "\n",
    "        ait = K.exp(ait)\n",
    "\n",
    "        if mask is not None:\n",
    "            # Cast the mask to floatX to avoid float64 upcasting in theano\n",
    "            ait *= K.cast(mask, K.floatx())\n",
    "        ait /= K.cast(K.sum(ait, axis=1, keepdims=True) + K.epsilon(), K.floatx())\n",
    "        ait = K.expand_dims(ait)\n",
    "        weighted_input = x * ait\n",
    "        output = K.sum(weighted_input, axis=1)\n",
    "\n",
    "        return output\n",
    "\n",
    "    def compute_output_shape(self, input_shape):\n",
    "        return (input_shape[0], input_shape[-1])\n",
    "\n"
   ]
  },
  {
   "cell_type": "code",
   "execution_count": 69,
   "metadata": {},
   "outputs": [
    {
     "name": "stdout",
     "output_type": "stream",
     "text": [
      "__________________________________________________________________________________________________\n",
      "Layer (type)                    Output Shape         Param #     Connected to                     \n",
      "==================================================================================================\n",
      "input_33 (InputLayer)           (None, 36)           0                                            \n",
      "__________________________________________________________________________________________________\n",
      "input_34 (InputLayer)           (None, 36)           0                                            \n",
      "__________________________________________________________________________________________________\n",
      "embedding_2 (Embedding)         (None, 36, 300)      2102700     input_33[0][0]                   \n",
      "                                                                 input_34[0][0]                   \n",
      "__________________________________________________________________________________________________\n",
      "bidirectional_17 (Bidirectional (None, 300)          541200      embedding_2[32][0]               \n",
      "                                                                 embedding_2[33][0]               \n",
      "__________________________________________________________________________________________________\n",
      "dense_13 (Dense)                (None, 36)           10836       bidirectional_17[0][0]           \n",
      "                                                                 bidirectional_17[1][0]           \n",
      "==================================================================================================\n",
      "Total params: 2,654,736\n",
      "Trainable params: 552,036\n",
      "Non-trainable params: 2,102,700\n",
      "__________________________________________________________________________________________________\n"
     ]
    }
   ],
   "source": [
    "#BiLSTM with glove\n",
    "\n",
    "\n",
    "#this is arbitrary?\n",
    "\n",
    "NUM_LSTM_UNITS = 150 #output dimension\n",
    "\n",
    "\n",
    "NUM_EMBEDDING_DIM = EMBEDDING_DIM\n",
    "\n",
    "top_input = Input(\n",
    "    shape=(MAX_SEQUENCE_LENGTH, ),    #this is the first sentence\n",
    "    dtype='int32')\n",
    "\n",
    "bm_input = Input(\n",
    "    shape=(MAX_SEQUENCE_LENGTH, ),   #this is the second\n",
    "    dtype='int32')\n",
    "\n",
    "\n",
    "top_embedded = embedding_layer(\n",
    "    top_input)\n",
    "bm_embedded = embedding_layer(\n",
    "    bm_input)\n",
    "\n",
    "BiLSTM = Bidirectional(LSTM(NUM_LSTM_UNITS))\n",
    "\n",
    "\n",
    "\n",
    "top_output = BiLSTM(top_embedded)\n",
    "\n",
    "bm_output = BiLSTM(bm_embedded)\n",
    "\n",
    "\n",
    "#modelHA_top = HAttLayer(attention_dim=NUM_EMBEDDING_DIM)(top_output)\n",
    "\n",
    "\n",
    "#modelHA_bm = HAttLayer(attention_dim=NUM_EMBEDDING_DIM)(bm_output)         #Attention Layer\n",
    "\n",
    "\n",
    "#a = dot([modelHA_top, top_output], axes=-1)\n",
    "\n",
    "\n",
    "#b = dot([modelHA_bm, bm_output], axes=-1)\n",
    "\n",
    "dense =  Dense(\n",
    "    units=MAX_SEQUENCE_LENGTH, \n",
    "    activation='softmax')\n",
    "\n",
    "predictions1 = dense(top_output)\n",
    "\n",
    "predictions2 = dense(bm_output)\n",
    "\n",
    "\n",
    "model = Model(\n",
    "    inputs=[top_input, bm_input], \n",
    "    outputs=[predictions1, predictions2])\n",
    "\n",
    "\n",
    "model.summary()\n",
    "\n",
    "model.compile(\n",
    "    optimizer='Adam',\n",
    "    loss='mean_squared_error',\n",
    "    metrics=['accuracy'])\n",
    "\n",
    "BATCH_SIZE = 36\n",
    "\n",
    "NUM_EPOCHS = 30\n",
    "\n",
    "earlyStopping = EarlyStopping(monitor='val_loss', patience=10, verbose=1, mode='min')\n",
    "mcp_save = ModelCheckpoint('../Phrase_Models_H5/PAWS_Wiki_PHRASE.h5', save_best_only=True,  verbose=1, monitor='val_loss', mode='min')\n"
   ]
  },
  {
   "cell_type": "code",
   "execution_count": 70,
   "metadata": {},
   "outputs": [
    {
     "name": "stdout",
     "output_type": "stream",
     "text": [
      "Train on 2730 samples, validate on 921 samples\n",
      "Epoch 1/30\n",
      "2730/2730 [==============================] - 22s 8ms/step - loss: 0.1044 - dense_13_loss: 0.0446 - dense_13_acc: 0.0656 - dense_13_acc_1: 0.0751 - val_loss: 0.1018 - val_dense_13_loss: 0.0435 - val_dense_13_acc: 0.0456 - val_dense_13_acc_1: 0.0586\n",
      "\n",
      "Epoch 00001: val_loss improved from inf to 0.10181, saving model to ../Phrase_Models_H5/PAWS_Wiki_PHRASE.h5\n",
      "Epoch 2/30\n",
      "2730/2730 [==============================] - 15s 6ms/step - loss: 0.1013 - dense_13_loss: 0.0433 - dense_13_acc: 0.1176 - dense_13_acc_1: 0.1344 - val_loss: 0.1041 - val_dense_13_loss: 0.0446 - val_dense_13_acc: 0.0326 - val_dense_13_acc_1: 0.0445\n",
      "\n",
      "Epoch 00002: val_loss did not improve from 0.10181\n",
      "Epoch 3/30\n",
      "2730/2730 [==============================] - 16s 6ms/step - loss: 0.0922 - dense_13_loss: 0.0393 - dense_13_acc: 0.1839 - dense_13_acc_1: 0.2271 - val_loss: 0.1072 - val_dense_13_loss: 0.0459 - val_dense_13_acc: 0.0467 - val_dense_13_acc_1: 0.0554\n",
      "\n",
      "Epoch 00003: val_loss did not improve from 0.10181\n",
      "Epoch 4/30\n",
      "2730/2730 [==============================] - 15s 6ms/step - loss: 0.0824 - dense_13_loss: 0.0352 - dense_13_acc: 0.2645 - dense_13_acc_1: 0.3223 - val_loss: 0.1089 - val_dense_13_loss: 0.0469 - val_dense_13_acc: 0.0532 - val_dense_13_acc_1: 0.0575\n",
      "\n",
      "Epoch 00004: val_loss did not improve from 0.10181\n",
      "Epoch 5/30\n",
      "2730/2730 [==============================] - 16s 6ms/step - loss: 0.0742 - dense_13_loss: 0.0318 - dense_13_acc: 0.3048 - dense_13_acc_1: 0.3894 - val_loss: 0.1104 - val_dense_13_loss: 0.0480 - val_dense_13_acc: 0.0565 - val_dense_13_acc_1: 0.0478\n",
      "\n",
      "Epoch 00005: val_loss did not improve from 0.10181\n",
      "Epoch 6/30\n",
      "2730/2730 [==============================] - 16s 6ms/step - loss: 0.0688 - dense_13_loss: 0.0293 - dense_13_acc: 0.3271 - dense_13_acc_1: 0.4425 - val_loss: 0.1138 - val_dense_13_loss: 0.0495 - val_dense_13_acc: 0.0554 - val_dense_13_acc_1: 0.0304\n",
      "\n",
      "Epoch 00006: val_loss did not improve from 0.10181\n",
      "Epoch 7/30\n",
      "2730/2730 [==============================] - 15s 6ms/step - loss: 0.0643 - dense_13_loss: 0.0274 - dense_13_acc: 0.3487 - dense_13_acc_1: 0.4718 - val_loss: 0.1138 - val_dense_13_loss: 0.0496 - val_dense_13_acc: 0.0641 - val_dense_13_acc_1: 0.0369\n",
      "\n",
      "Epoch 00007: val_loss did not improve from 0.10181\n",
      "Epoch 8/30\n",
      "2730/2730 [==============================] - 16s 6ms/step - loss: 0.0610 - dense_13_loss: 0.0258 - dense_13_acc: 0.3520 - dense_13_acc_1: 0.5037 - val_loss: 0.1147 - val_dense_13_loss: 0.0499 - val_dense_13_acc: 0.0456 - val_dense_13_acc_1: 0.0347\n",
      "\n",
      "Epoch 00008: val_loss did not improve from 0.10181\n",
      "Epoch 9/30\n",
      "2730/2730 [==============================] - 16s 6ms/step - loss: 0.0588 - dense_13_loss: 0.0248 - dense_13_acc: 0.3692 - dense_13_acc_1: 0.5245 - val_loss: 0.1155 - val_dense_13_loss: 0.0505 - val_dense_13_acc: 0.0456 - val_dense_13_acc_1: 0.0391\n",
      "\n",
      "Epoch 00009: val_loss did not improve from 0.10181\n",
      "Epoch 10/30\n",
      "2730/2730 [==============================] - 16s 6ms/step - loss: 0.0567 - dense_13_loss: 0.0237 - dense_13_acc: 0.3648 - dense_13_acc_1: 0.5520 - val_loss: 0.1159 - val_dense_13_loss: 0.0505 - val_dense_13_acc: 0.0434 - val_dense_13_acc_1: 0.0347\n",
      "\n",
      "Epoch 00010: val_loss did not improve from 0.10181\n",
      "Epoch 11/30\n",
      "2730/2730 [==============================] - 15s 6ms/step - loss: 0.0553 - dense_13_loss: 0.0231 - dense_13_acc: 0.3828 - dense_13_acc_1: 0.5553 - val_loss: 0.1160 - val_dense_13_loss: 0.0506 - val_dense_13_acc: 0.0402 - val_dense_13_acc_1: 0.0337\n",
      "\n",
      "Epoch 00011: val_loss did not improve from 0.10181\n",
      "Epoch 00011: early stopping\n"
     ]
    }
   ],
   "source": [
    "history = model.fit(x=[x1_train, x2_train], y=[tl1, tl2], batch_size=BATCH_SIZE, epochs=NUM_EPOCHS, callbacks=[earlyStopping,mcp_save], validation_data=([x1_dev, x2_dev], [dl1, dl2]),\n",
    "    \n",
    "    shuffle=True\n",
    ")"
   ]
  },
  {
   "cell_type": "code",
   "execution_count": 67,
   "metadata": {},
   "outputs": [
    {
     "name": "stdout",
     "output_type": "stream",
     "text": [
      "__________________________________________________________________________________________________\n",
      "Layer (type)                    Output Shape         Param #     Connected to                     \n",
      "==================================================================================================\n",
      "input_31 (InputLayer)           (None, 36)           0                                            \n",
      "__________________________________________________________________________________________________\n",
      "input_32 (InputLayer)           (None, 36)           0                                            \n",
      "__________________________________________________________________________________________________\n",
      "embedding_2 (Embedding)         (None, 36, 300)      2102700     input_31[0][0]                   \n",
      "                                                                 input_32[0][0]                   \n",
      "__________________________________________________________________________________________________\n",
      "bidirectional_16 (Bidirectional (None, 36, 300)      541200      embedding_2[30][0]               \n",
      "                                                                 embedding_2[31][0]               \n",
      "__________________________________________________________________________________________________\n",
      "h_att_layer_27 (HAttLayer)      (None, 300)          90600       bidirectional_16[0][0]           \n",
      "__________________________________________________________________________________________________\n",
      "h_att_layer_28 (HAttLayer)      (None, 300)          90600       bidirectional_16[1][0]           \n",
      "__________________________________________________________________________________________________\n",
      "dense_12 (Dense)                (None, 36)           10836       h_att_layer_27[0][0]             \n",
      "                                                                 h_att_layer_28[0][0]             \n",
      "==================================================================================================\n",
      "Total params: 2,835,936\n",
      "Trainable params: 733,236\n",
      "Non-trainable params: 2,102,700\n",
      "__________________________________________________________________________________________________\n"
     ]
    }
   ],
   "source": [
    "#BiLSTM with glove\n",
    "\n",
    "\n",
    "#this is arbitrary?\n",
    "\n",
    "NUM_LSTM_UNITS = 150 #output dimension\n",
    "\n",
    "\n",
    "NUM_EMBEDDING_DIM = EMBEDDING_DIM\n",
    "\n",
    "top_input = Input(\n",
    "    shape=(MAX_SEQUENCE_LENGTH, ),    #this is the first sentence\n",
    "    dtype='int32')\n",
    "\n",
    "bm_input = Input(\n",
    "    shape=(MAX_SEQUENCE_LENGTH, ),   #this is the second\n",
    "    dtype='int32')\n",
    "\n",
    "\n",
    "top_embedded = embedding_layer(\n",
    "    top_input)\n",
    "bm_embedded = embedding_layer(\n",
    "    bm_input)\n",
    "\n",
    "BiLSTM = Bidirectional(LSTM(NUM_LSTM_UNITS, return_sequences=True))\n",
    "\n",
    "\n",
    "\n",
    "top_output = BiLSTM(top_embedded)\n",
    "\n",
    "bm_output = BiLSTM(bm_embedded)\n",
    "\n",
    "\n",
    "modelHA_top = HAttLayer(attention_dim=NUM_EMBEDDING_DIM)(top_output)\n",
    "\n",
    "\n",
    "modelHA_bm = HAttLayer(attention_dim=NUM_EMBEDDING_DIM)(bm_output)         #Attention Layer\n",
    "\n",
    "\n",
    "\n",
    "\n",
    "dense =  Dense(\n",
    "    units=MAX_SEQUENCE_LENGTH, \n",
    "    activation='softmax')\n",
    "\n",
    "predictions1 = dense(modelHA_top)\n",
    "\n",
    "predictions2 = dense(modelHA_bm)\n",
    "\n",
    "\n",
    "model = Model(\n",
    "    inputs=[top_input, bm_input], \n",
    "    outputs=[predictions1, predictions2])\n",
    "\n",
    "\n",
    "model.summary()\n",
    "\n",
    "model.compile(\n",
    "    optimizer='Adam',\n",
    "    loss='mean_squared_error',\n",
    "    metrics=['accuracy'])\n",
    "\n",
    "BATCH_SIZE = 36\n",
    "\n",
    "NUM_EPOCHS = 30\n",
    "\n",
    "earlyStopping = EarlyStopping(monitor='val_loss', patience=7, verbose=1, mode='min')\n",
    "mcp_save = ModelCheckpoint('../Phrase_Models_H5/PAWS_Wiki_PHRASE.h5', save_best_only=True,  verbose=1, monitor='val_loss', mode='min')\n"
   ]
  },
  {
   "cell_type": "code",
   "execution_count": 42,
   "metadata": {},
   "outputs": [
    {
     "name": "stdout",
     "output_type": "stream",
     "text": [
      "Tue Jul 16 05:38:02 2019       \n",
      "+-----------------------------------------------------------------------------+\n",
      "| NVIDIA-SMI 418.56       Driver Version: 418.56       CUDA Version: 10.1     |\n",
      "|-------------------------------+----------------------+----------------------+\n",
      "| GPU  Name        Persistence-M| Bus-Id        Disp.A | Volatile Uncorr. ECC |\n",
      "| Fan  Temp  Perf  Pwr:Usage/Cap|         Memory-Usage | GPU-Util  Compute M. |\n",
      "|===============================+======================+======================|\n",
      "|   0  GeForce GTX 1080    Off  | 00000000:02:00.0 Off |                  N/A |\n",
      "|  0%   46C    P8     8W / 200W |   7779MiB /  8118MiB |      0%      Default |\n",
      "+-------------------------------+----------------------+----------------------+\n",
      "                                                                               \n",
      "+-----------------------------------------------------------------------------+\n",
      "| Processes:                                                       GPU Memory |\n",
      "|  GPU       PID   Type   Process name                             Usage      |\n",
      "|=============================================================================|\n",
      "+-----------------------------------------------------------------------------+\n"
     ]
    }
   ],
   "source": [
    "!nvidia-smi"
   ]
  },
  {
   "cell_type": "code",
   "execution_count": 68,
   "metadata": {},
   "outputs": [
    {
     "name": "stdout",
     "output_type": "stream",
     "text": [
      "Train on 2730 samples, validate on 921 samples\n",
      "Epoch 1/30\n",
      "2730/2730 [==============================] - 23s 8ms/step - loss: 0.1044 - dense_12_loss: 0.0447 - dense_12_acc: 0.0696 - dense_12_acc_1: 0.0784 - val_loss: 0.1017 - val_dense_12_loss: 0.0434 - val_dense_12_acc: 0.0673 - val_dense_12_acc_1: 0.1097\n",
      "\n",
      "Epoch 00001: val_loss improved from inf to 0.10170, saving model to ../Phrase_Models_H5/PAWS_Wiki_PHRASE.h5\n",
      "Epoch 2/30\n",
      "2730/2730 [==============================] - 16s 6ms/step - loss: 0.0998 - dense_12_loss: 0.0426 - dense_12_acc: 0.1201 - dense_12_acc_1: 0.1432 - val_loss: 0.1048 - val_dense_12_loss: 0.0450 - val_dense_12_acc: 0.0673 - val_dense_12_acc_1: 0.0738\n",
      "\n",
      "Epoch 00002: val_loss did not improve from 0.10170\n",
      "Epoch 3/30\n",
      "2730/2730 [==============================] - 16s 6ms/step - loss: 0.0891 - dense_12_loss: 0.0379 - dense_12_acc: 0.2198 - dense_12_acc_1: 0.2689 - val_loss: 0.1054 - val_dense_12_loss: 0.0452 - val_dense_12_acc: 0.0847 - val_dense_12_acc_1: 0.0977\n",
      "\n",
      "Epoch 00003: val_loss did not improve from 0.10170\n",
      "Epoch 4/30\n",
      "2730/2730 [==============================] - 16s 6ms/step - loss: 0.0788 - dense_12_loss: 0.0336 - dense_12_acc: 0.2703 - dense_12_acc_1: 0.3582 - val_loss: 0.1086 - val_dense_12_loss: 0.0471 - val_dense_12_acc: 0.0543 - val_dense_12_acc_1: 0.0641\n",
      "\n",
      "Epoch 00004: val_loss did not improve from 0.10170\n",
      "Epoch 5/30\n",
      "2730/2730 [==============================] - 16s 6ms/step - loss: 0.0715 - dense_12_loss: 0.0305 - dense_12_acc: 0.3242 - dense_12_acc_1: 0.4179 - val_loss: 0.1109 - val_dense_12_loss: 0.0481 - val_dense_12_acc: 0.0456 - val_dense_12_acc_1: 0.0521\n",
      "\n",
      "Epoch 00005: val_loss did not improve from 0.10170\n",
      "Epoch 6/30\n",
      "2730/2730 [==============================] - 16s 6ms/step - loss: 0.0665 - dense_12_loss: 0.0282 - dense_12_acc: 0.3348 - dense_12_acc_1: 0.4626 - val_loss: 0.1097 - val_dense_12_loss: 0.0474 - val_dense_12_acc: 0.0662 - val_dense_12_acc_1: 0.0858\n",
      "\n",
      "Epoch 00006: val_loss did not improve from 0.10170\n",
      "Epoch 7/30\n",
      "2730/2730 [==============================] - 16s 6ms/step - loss: 0.0633 - dense_12_loss: 0.0267 - dense_12_acc: 0.3623 - dense_12_acc_1: 0.4934 - val_loss: 0.1116 - val_dense_12_loss: 0.0485 - val_dense_12_acc: 0.0434 - val_dense_12_acc_1: 0.0565\n",
      "\n",
      "Epoch 00007: val_loss did not improve from 0.10170\n",
      "Epoch 8/30\n",
      "2730/2730 [==============================] - 16s 6ms/step - loss: 0.0596 - dense_12_loss: 0.0250 - dense_12_acc: 0.3678 - dense_12_acc_1: 0.5201 - val_loss: 0.1112 - val_dense_12_loss: 0.0486 - val_dense_12_acc: 0.0651 - val_dense_12_acc_1: 0.0619\n",
      "\n",
      "Epoch 00008: val_loss did not improve from 0.10170\n",
      "Epoch 00008: early stopping\n"
     ]
    }
   ],
   "source": [
    "history = model.fit(x=[x1_train, x2_train], y=[tl1, tl2], batch_size=BATCH_SIZE, epochs=NUM_EPOCHS, callbacks=[earlyStopping,mcp_save], validation_data=([x1_dev, x2_dev], [dl1, dl2]),\n",
    "    \n",
    "    shuffle=True\n",
    ")"
   ]
  },
  {
   "cell_type": "code",
   "execution_count": 47,
   "metadata": {},
   "outputs": [
    {
     "name": "stdout",
     "output_type": "stream",
     "text": [
      "Saved model to disk\n"
     ]
    }
   ],
   "source": [
    "\n",
    "model.save(\"BiLSTM_PAWS_QQP.h5\")        ##first attempt\n",
    "print(\"Saved model to disk\")  "
   ]
  },
  {
   "cell_type": "code",
   "execution_count": 65,
   "metadata": {},
   "outputs": [
    {
     "ename": "ValueError",
     "evalue": "Unknown layer: HAttLayer",
     "output_type": "error",
     "traceback": [
      "\u001b[0;31m---------------------------------------------------------------------------\u001b[0m",
      "\u001b[0;31mValueError\u001b[0m                                Traceback (most recent call last)",
      "\u001b[0;32m<ipython-input-65-f926a3b39fad>\u001b[0m in \u001b[0;36m<module>\u001b[0;34m\u001b[0m\n\u001b[0;32m----> 1\u001b[0;31m \u001b[0mmodel\u001b[0m \u001b[0;34m=\u001b[0m \u001b[0mload_model\u001b[0m\u001b[0;34m(\u001b[0m\u001b[0;34m\"../Phrase_Models_H5/PAWS_Wiki_PHRASE.h5\"\u001b[0m\u001b[0;34m)\u001b[0m\u001b[0;34m\u001b[0m\u001b[0m\n\u001b[0m",
      "\u001b[0;32m/usr/local/lib/python3.5/dist-packages/keras/engine/saving.py\u001b[0m in \u001b[0;36mload_model\u001b[0;34m(filepath, custom_objects, compile)\u001b[0m\n\u001b[1;32m    417\u001b[0m     \u001b[0mf\u001b[0m \u001b[0;34m=\u001b[0m \u001b[0mh5dict\u001b[0m\u001b[0;34m(\u001b[0m\u001b[0mfilepath\u001b[0m\u001b[0;34m,\u001b[0m \u001b[0;34m'r'\u001b[0m\u001b[0;34m)\u001b[0m\u001b[0;34m\u001b[0m\u001b[0m\n\u001b[1;32m    418\u001b[0m     \u001b[0;32mtry\u001b[0m\u001b[0;34m:\u001b[0m\u001b[0;34m\u001b[0m\u001b[0m\n\u001b[0;32m--> 419\u001b[0;31m         \u001b[0mmodel\u001b[0m \u001b[0;34m=\u001b[0m \u001b[0m_deserialize_model\u001b[0m\u001b[0;34m(\u001b[0m\u001b[0mf\u001b[0m\u001b[0;34m,\u001b[0m \u001b[0mcustom_objects\u001b[0m\u001b[0;34m,\u001b[0m \u001b[0mcompile\u001b[0m\u001b[0;34m)\u001b[0m\u001b[0;34m\u001b[0m\u001b[0m\n\u001b[0m\u001b[1;32m    420\u001b[0m     \u001b[0;32mfinally\u001b[0m\u001b[0;34m:\u001b[0m\u001b[0;34m\u001b[0m\u001b[0m\n\u001b[1;32m    421\u001b[0m         \u001b[0;32mif\u001b[0m \u001b[0mopened_new_file\u001b[0m\u001b[0;34m:\u001b[0m\u001b[0;34m\u001b[0m\u001b[0m\n",
      "\u001b[0;32m/usr/local/lib/python3.5/dist-packages/keras/engine/saving.py\u001b[0m in \u001b[0;36m_deserialize_model\u001b[0;34m(f, custom_objects, compile)\u001b[0m\n\u001b[1;32m    223\u001b[0m         \u001b[0;32mraise\u001b[0m \u001b[0mValueError\u001b[0m\u001b[0;34m(\u001b[0m\u001b[0;34m'No model found in config.'\u001b[0m\u001b[0;34m)\u001b[0m\u001b[0;34m\u001b[0m\u001b[0m\n\u001b[1;32m    224\u001b[0m     \u001b[0mmodel_config\u001b[0m \u001b[0;34m=\u001b[0m \u001b[0mjson\u001b[0m\u001b[0;34m.\u001b[0m\u001b[0mloads\u001b[0m\u001b[0;34m(\u001b[0m\u001b[0mmodel_config\u001b[0m\u001b[0;34m.\u001b[0m\u001b[0mdecode\u001b[0m\u001b[0;34m(\u001b[0m\u001b[0;34m'utf-8'\u001b[0m\u001b[0;34m)\u001b[0m\u001b[0;34m)\u001b[0m\u001b[0;34m\u001b[0m\u001b[0m\n\u001b[0;32m--> 225\u001b[0;31m     \u001b[0mmodel\u001b[0m \u001b[0;34m=\u001b[0m \u001b[0mmodel_from_config\u001b[0m\u001b[0;34m(\u001b[0m\u001b[0mmodel_config\u001b[0m\u001b[0;34m,\u001b[0m \u001b[0mcustom_objects\u001b[0m\u001b[0;34m=\u001b[0m\u001b[0mcustom_objects\u001b[0m\u001b[0;34m)\u001b[0m\u001b[0;34m\u001b[0m\u001b[0m\n\u001b[0m\u001b[1;32m    226\u001b[0m     \u001b[0mmodel_weights_group\u001b[0m \u001b[0;34m=\u001b[0m \u001b[0mf\u001b[0m\u001b[0;34m[\u001b[0m\u001b[0;34m'model_weights'\u001b[0m\u001b[0;34m]\u001b[0m\u001b[0;34m\u001b[0m\u001b[0m\n\u001b[1;32m    227\u001b[0m \u001b[0;34m\u001b[0m\u001b[0m\n",
      "\u001b[0;32m/usr/local/lib/python3.5/dist-packages/keras/engine/saving.py\u001b[0m in \u001b[0;36mmodel_from_config\u001b[0;34m(config, custom_objects)\u001b[0m\n\u001b[1;32m    456\u001b[0m                         '`Sequential.from_config(config)`?')\n\u001b[1;32m    457\u001b[0m     \u001b[0;32mfrom\u001b[0m \u001b[0;34m.\u001b[0m\u001b[0;34m.\u001b[0m\u001b[0mlayers\u001b[0m \u001b[0;32mimport\u001b[0m \u001b[0mdeserialize\u001b[0m\u001b[0;34m\u001b[0m\u001b[0m\n\u001b[0;32m--> 458\u001b[0;31m     \u001b[0;32mreturn\u001b[0m \u001b[0mdeserialize\u001b[0m\u001b[0;34m(\u001b[0m\u001b[0mconfig\u001b[0m\u001b[0;34m,\u001b[0m \u001b[0mcustom_objects\u001b[0m\u001b[0;34m=\u001b[0m\u001b[0mcustom_objects\u001b[0m\u001b[0;34m)\u001b[0m\u001b[0;34m\u001b[0m\u001b[0m\n\u001b[0m\u001b[1;32m    459\u001b[0m \u001b[0;34m\u001b[0m\u001b[0m\n\u001b[1;32m    460\u001b[0m \u001b[0;34m\u001b[0m\u001b[0m\n",
      "\u001b[0;32m/usr/local/lib/python3.5/dist-packages/keras/layers/__init__.py\u001b[0m in \u001b[0;36mdeserialize\u001b[0;34m(config, custom_objects)\u001b[0m\n\u001b[1;32m     53\u001b[0m                                     \u001b[0mmodule_objects\u001b[0m\u001b[0;34m=\u001b[0m\u001b[0mglobs\u001b[0m\u001b[0;34m,\u001b[0m\u001b[0;34m\u001b[0m\u001b[0m\n\u001b[1;32m     54\u001b[0m                                     \u001b[0mcustom_objects\u001b[0m\u001b[0;34m=\u001b[0m\u001b[0mcustom_objects\u001b[0m\u001b[0;34m,\u001b[0m\u001b[0;34m\u001b[0m\u001b[0m\n\u001b[0;32m---> 55\u001b[0;31m                                     printable_module_name='layer')\n\u001b[0m",
      "\u001b[0;32m/usr/local/lib/python3.5/dist-packages/keras/utils/generic_utils.py\u001b[0m in \u001b[0;36mdeserialize_keras_object\u001b[0;34m(identifier, module_objects, custom_objects, printable_module_name)\u001b[0m\n\u001b[1;32m    143\u001b[0m                     \u001b[0mconfig\u001b[0m\u001b[0;34m[\u001b[0m\u001b[0;34m'config'\u001b[0m\u001b[0;34m]\u001b[0m\u001b[0;34m,\u001b[0m\u001b[0;34m\u001b[0m\u001b[0m\n\u001b[1;32m    144\u001b[0m                     custom_objects=dict(list(_GLOBAL_CUSTOM_OBJECTS.items()) +\n\u001b[0;32m--> 145\u001b[0;31m                                         list(custom_objects.items())))\n\u001b[0m\u001b[1;32m    146\u001b[0m             \u001b[0;32mwith\u001b[0m \u001b[0mCustomObjectScope\u001b[0m\u001b[0;34m(\u001b[0m\u001b[0mcustom_objects\u001b[0m\u001b[0;34m)\u001b[0m\u001b[0;34m:\u001b[0m\u001b[0;34m\u001b[0m\u001b[0m\n\u001b[1;32m    147\u001b[0m                 \u001b[0;32mreturn\u001b[0m \u001b[0mcls\u001b[0m\u001b[0;34m.\u001b[0m\u001b[0mfrom_config\u001b[0m\u001b[0;34m(\u001b[0m\u001b[0mconfig\u001b[0m\u001b[0;34m[\u001b[0m\u001b[0;34m'config'\u001b[0m\u001b[0;34m]\u001b[0m\u001b[0;34m)\u001b[0m\u001b[0;34m\u001b[0m\u001b[0m\n",
      "\u001b[0;32m/usr/local/lib/python3.5/dist-packages/keras/engine/network.py\u001b[0m in \u001b[0;36mfrom_config\u001b[0;34m(cls, config, custom_objects)\u001b[0m\n\u001b[1;32m   1020\u001b[0m         \u001b[0;31m# First, we create all layers and enqueue nodes to be processed\u001b[0m\u001b[0;34m\u001b[0m\u001b[0;34m\u001b[0m\u001b[0m\n\u001b[1;32m   1021\u001b[0m         \u001b[0;32mfor\u001b[0m \u001b[0mlayer_data\u001b[0m \u001b[0;32min\u001b[0m \u001b[0mconfig\u001b[0m\u001b[0;34m[\u001b[0m\u001b[0;34m'layers'\u001b[0m\u001b[0;34m]\u001b[0m\u001b[0;34m:\u001b[0m\u001b[0;34m\u001b[0m\u001b[0m\n\u001b[0;32m-> 1022\u001b[0;31m             \u001b[0mprocess_layer\u001b[0m\u001b[0;34m(\u001b[0m\u001b[0mlayer_data\u001b[0m\u001b[0;34m)\u001b[0m\u001b[0;34m\u001b[0m\u001b[0m\n\u001b[0m\u001b[1;32m   1023\u001b[0m         \u001b[0;31m# Then we process nodes in order of layer depth.\u001b[0m\u001b[0;34m\u001b[0m\u001b[0;34m\u001b[0m\u001b[0m\n\u001b[1;32m   1024\u001b[0m         \u001b[0;31m# Nodes that cannot yet be processed (if the inbound node\u001b[0m\u001b[0;34m\u001b[0m\u001b[0;34m\u001b[0m\u001b[0m\n",
      "\u001b[0;32m/usr/local/lib/python3.5/dist-packages/keras/engine/network.py\u001b[0m in \u001b[0;36mprocess_layer\u001b[0;34m(layer_data)\u001b[0m\n\u001b[1;32m   1006\u001b[0m \u001b[0;34m\u001b[0m\u001b[0m\n\u001b[1;32m   1007\u001b[0m             layer = deserialize_layer(layer_data,\n\u001b[0;32m-> 1008\u001b[0;31m                                       custom_objects=custom_objects)\n\u001b[0m\u001b[1;32m   1009\u001b[0m             \u001b[0mcreated_layers\u001b[0m\u001b[0;34m[\u001b[0m\u001b[0mlayer_name\u001b[0m\u001b[0;34m]\u001b[0m \u001b[0;34m=\u001b[0m \u001b[0mlayer\u001b[0m\u001b[0;34m\u001b[0m\u001b[0m\n\u001b[1;32m   1010\u001b[0m \u001b[0;34m\u001b[0m\u001b[0m\n",
      "\u001b[0;32m/usr/local/lib/python3.5/dist-packages/keras/layers/__init__.py\u001b[0m in \u001b[0;36mdeserialize\u001b[0;34m(config, custom_objects)\u001b[0m\n\u001b[1;32m     53\u001b[0m                                     \u001b[0mmodule_objects\u001b[0m\u001b[0;34m=\u001b[0m\u001b[0mglobs\u001b[0m\u001b[0;34m,\u001b[0m\u001b[0;34m\u001b[0m\u001b[0m\n\u001b[1;32m     54\u001b[0m                                     \u001b[0mcustom_objects\u001b[0m\u001b[0;34m=\u001b[0m\u001b[0mcustom_objects\u001b[0m\u001b[0;34m,\u001b[0m\u001b[0;34m\u001b[0m\u001b[0m\n\u001b[0;32m---> 55\u001b[0;31m                                     printable_module_name='layer')\n\u001b[0m",
      "\u001b[0;32m/usr/local/lib/python3.5/dist-packages/keras/utils/generic_utils.py\u001b[0m in \u001b[0;36mdeserialize_keras_object\u001b[0;34m(identifier, module_objects, custom_objects, printable_module_name)\u001b[0m\n\u001b[1;32m    136\u001b[0m             \u001b[0;32mif\u001b[0m \u001b[0mcls\u001b[0m \u001b[0;32mis\u001b[0m \u001b[0;32mNone\u001b[0m\u001b[0;34m:\u001b[0m\u001b[0;34m\u001b[0m\u001b[0m\n\u001b[1;32m    137\u001b[0m                 raise ValueError('Unknown ' + printable_module_name +\n\u001b[0;32m--> 138\u001b[0;31m                                  ': ' + class_name)\n\u001b[0m\u001b[1;32m    139\u001b[0m         \u001b[0;32mif\u001b[0m \u001b[0mhasattr\u001b[0m\u001b[0;34m(\u001b[0m\u001b[0mcls\u001b[0m\u001b[0;34m,\u001b[0m \u001b[0;34m'from_config'\u001b[0m\u001b[0;34m)\u001b[0m\u001b[0;34m:\u001b[0m\u001b[0;34m\u001b[0m\u001b[0m\n\u001b[1;32m    140\u001b[0m             \u001b[0mcustom_objects\u001b[0m \u001b[0;34m=\u001b[0m \u001b[0mcustom_objects\u001b[0m \u001b[0;32mor\u001b[0m \u001b[0;34m{\u001b[0m\u001b[0;34m}\u001b[0m\u001b[0;34m\u001b[0m\u001b[0m\n",
      "\u001b[0;31mValueError\u001b[0m: Unknown layer: HAttLayer"
     ]
    }
   ],
   "source": [
    "model = load_model(\"../Phrase_Models_H5/PAWS_Wiki_PHRASE.h5\")\n"
   ]
  },
  {
   "cell_type": "code",
   "execution_count": 61,
   "metadata": {},
   "outputs": [],
   "source": [
    "\n",
    "predicts = model.predict(\n",
    "    [x1_train, x2_train])"
   ]
  },
  {
   "cell_type": "code",
   "execution_count": 62,
   "metadata": {},
   "outputs": [
    {
     "name": "stdout",
     "output_type": "stream",
     "text": [
      "[array([[8.0090761e-04, 4.1911232e-01, 9.8123670e-01, ..., 1.3675392e-03,\n",
      "        1.3753772e-03, 2.4429560e-03],\n",
      "       [1.2151301e-03, 5.5475837e-01, 9.9294400e-01, ..., 1.2861788e-03,\n",
      "        8.2087517e-04, 1.3807118e-03],\n",
      "       [6.9922209e-04, 6.3816333e-01, 9.9000371e-01, ..., 6.9358945e-04,\n",
      "        1.3052821e-03, 1.1829436e-03],\n",
      "       ...,\n",
      "       [8.1270933e-04, 6.0070676e-01, 9.9352086e-01, ..., 1.0554194e-03,\n",
      "        6.5967441e-04, 1.2141764e-03],\n",
      "       [1.0703802e-03, 5.0187266e-01, 9.9227506e-01, ..., 1.4908016e-03,\n",
      "        6.5761805e-04, 1.5610158e-03],\n",
      "       [9.7182393e-04, 4.4466329e-01, 9.9324250e-01, ..., 1.5048087e-03,\n",
      "        6.1953068e-04, 1.3431311e-03]], dtype=float32), array([[6.9832802e-04, 4.6983927e-01, 9.9003100e-01, ..., 8.8551641e-04,\n",
      "        8.6352229e-04, 1.3160706e-03],\n",
      "       [1.2227297e-03, 5.5927038e-01, 9.9287462e-01, ..., 1.2634993e-03,\n",
      "        8.2474947e-04, 1.3822019e-03],\n",
      "       [7.3876977e-04, 6.6056633e-01, 9.9139416e-01, ..., 6.9007277e-04,\n",
      "        1.1476278e-03, 1.1244416e-03],\n",
      "       ...,\n",
      "       [7.3039532e-04, 5.9171289e-01, 9.9201322e-01, ..., 8.1798434e-04,\n",
      "        7.8448653e-04, 1.3237596e-03],\n",
      "       [8.3425641e-04, 4.5446935e-01, 9.9253309e-01, ..., 1.1238754e-03,\n",
      "        5.9205294e-04, 1.4109612e-03],\n",
      "       [9.1302395e-04, 4.8015979e-01, 9.9425077e-01, ..., 1.3337433e-03,\n",
      "        6.5639615e-04, 1.2455583e-03]], dtype=float32)]\n"
     ]
    }
   ],
   "source": [
    "print((predicts))"
   ]
  },
  {
   "cell_type": "code",
   "execution_count": 15,
   "metadata": {},
   "outputs": [
    {
     "name": "stdout",
     "output_type": "stream",
     "text": [
      "0.7814212256596139\n"
     ]
    }
   ],
   "source": [
    "real1=train.sentence1\n",
    "real2=train.sentence2\n",
    "realCat=train.label\n",
    "no = []\n",
    "err1 = []\n",
    "err2 = []\n",
    "wrongCat = []\n",
    "\n",
    "\n",
    "for x in range(len(predicts)):\n",
    "    if (np.argmax(predicts[x])!=(train.label[x])):\n",
    "        no=np.append(no, x)\n",
    "        err1=np.append(err1, real1[x])\n",
    "        err2=np.append(err2, real2[x])\n",
    "        wrongCat = np.append(wrongCat, realCat[x])\n",
    "print(1-(len(wrongCat)/len(predicts)))"
   ]
  },
  {
   "cell_type": "code",
   "execution_count": 16,
   "metadata": {},
   "outputs": [
    {
     "data": {
      "text/html": [
       "<table border=\"1\" class=\"dataframe\">\n",
       "    <thead>\n",
       "        <tr>\n",
       "            <th>id</th> <th>sent1</th> <th>sent2</th> <th>label</th>\n",
       "        </tr>\n",
       "    </thead>\n",
       "    <tbody>\n",
       "        <tr>\n",
       "            <td>1   </td> <td>b'How can you treat ocd ? Is there any helpful suggestio ...</td> <td>b'How can you treat OCD ? Is there any helpful suggestio ...</td> <td>1    </td>\n",
       "        </tr>\n",
       "        <tr>\n",
       "            <td>7   </td> <td>b'What are some beautiful lines to comment on Beautiful  ...</td> <td>b'What are some Beautiful lines to comment on beautiful  ...</td> <td>1    </td>\n",
       "        </tr>\n",
       "        <tr>\n",
       "            <td>8   </td> <td>b'Can small dogs breed with large dogs ?'                   </td> <td>b'Can small dogs breed with large dogs ?'                   </td> <td>1    </td>\n",
       "        </tr>\n",
       "        <tr>\n",
       "            <td>13  </td> <td>b'Are Indian IT services companies like Tech Mahindra/ W ...</td> <td>b'Are Indian IT services companies like Wipro/TCS/Tech . ...</td> <td>1    </td>\n",
       "        </tr>\n",
       "        <tr>\n",
       "            <td>14  </td> <td>b'Is nuclear energy renewable energy ?'                     </td> <td>b\"`` Is nuclear energy `` renewable energy `` ? ''\"         </td> <td>1    </td>\n",
       "        </tr>\n",
       "        <tr>\n",
       "            <td>15  </td> <td>b'What should I solve and what or how should I revise fo ...</td> <td>b'What should I revise and what or how should I solve fo ...</td> <td>0    </td>\n",
       "        </tr>\n",
       "        <tr>\n",
       "            <td>20  </td> <td>b'How is the relative ratio of brain waves ( alpha/beta/ ...</td> <td>b'How is the ratio of relative brain waves ( alpha/beta/ ...</td> <td>0    </td>\n",
       "        </tr>\n",
       "        <tr>\n",
       "            <td>21  </td> <td>b'How can I make an android app using Python 3 ? Is ther ...</td> <td>b'How can I develop an android app using Python 3 ? Is t ...</td> <td>1    </td>\n",
       "        </tr>\n",
       "        <tr>\n",
       "            <td>24  </td> <td>b'Headbreak : What can I do to prevent heart break night ...</td> <td>b'Headbreak : What can I do to prevent heart break night ...</td> <td>1    </td>\n",
       "        </tr>\n",
       "        <tr>\n",
       "            <td>25  </td> <td>b'When is latent heat positive ?'                           </td> <td>b'When is latent heat positive ?'                           </td> <td>1    </td>\n",
       "        </tr>\n",
       "        <tr>\n",
       "            <td>28  </td> <td>b\"What does the phrase 'Do you feel me ' mean ?\"            </td> <td>b\"What does the phrase `Do you feel me'mean ?\"              </td> <td>1    </td>\n",
       "        </tr>\n",
       "        <tr>\n",
       "            <td>29  </td> <td>b'What are some unexpected things first-time visitors to ...</td> <td>b'What are some unexpected things , first-time visitors  ...</td> <td>1    </td>\n",
       "        </tr>\n",
       "        <tr>\n",
       "            <td>35  </td> <td>b'How do I prepare for cognizant campus placement online ...</td> <td>b\"How do I prepare for Cognizant 's online campus placem ...</td> <td>1    </td>\n",
       "        </tr>\n",
       "        <tr>\n",
       "            <td>40  </td> <td>b'Which city is better to choose in India to settle from ...</td> <td>b'Which city is better to settle in India to choose from ...</td> <td>1    </td>\n",
       "        </tr>\n",
       "        <tr>\n",
       "            <td>53  </td> <td>b'How does quality of life in Vancouver compare to that  ...</td> <td>b'How does quality of life in Vancouver compare to that  ...</td> <td>1    </td>\n",
       "        </tr>\n",
       "        <tr>\n",
       "            <td>59  </td> <td>b'How do you write an algorithm to find the sum of the f ...</td> <td>b'How do you write an algorithm to find the sum of the f ...</td> <td>1    </td>\n",
       "        </tr>\n",
       "        <tr>\n",
       "            <td>61  </td> <td>b'I have only a very nice startup idea but I m not good  ...</td> <td>b'I have only a very good startup idea but I m not nice  ...</td> <td>1    </td>\n",
       "        </tr>\n",
       "        <tr>\n",
       "            <td>67  </td> <td>b'What should a mechanical engineer do besides doing col ...</td> <td>b'What should a mechanical engineer do besides studying  ...</td> <td>1    </td>\n",
       "        </tr>\n",
       "        <tr>\n",
       "            <td>73  </td> <td>b'How can entropy of two reversible process be same , be ...</td> <td>b'How can entropy of two same process be reversible , be ...</td> <td>0    </td>\n",
       "        </tr>\n",
       "        <tr>\n",
       "            <td>83  </td> <td>b'During muscle gain program , Heavy weight with more re ...</td> <td>b'During muscle gain program , Heavy weight with less re ...</td> <td>0    </td>\n",
       "        </tr>\n",
       "        <tr>\n",
       "            <td>85  </td> <td>b'When does the second batch of training for freshers in ...</td> <td>b'When does the first batch of training for freshers in  ...</td> <td>0    </td>\n",
       "        </tr>\n",
       "        <tr>\n",
       "            <td>105 </td> <td>b'It is possible to apply at the Diversity Immigrant Vis ...</td> <td>b'It is possible to get at the Diversity Immigrant Visa  ...</td> <td>0    </td>\n",
       "        </tr>\n",
       "        <tr>\n",
       "            <td>106 </td> <td>b\"Why do n't audiobooks create Text-to-speech technology ...</td> <td>b\"Why do n't audiobooks use Text-to-speech technology to ...</td> <td>0    </td>\n",
       "        </tr>\n",
       "        <tr>\n",
       "            <td>108 </td> <td>b'I have polycythemia . Can I qualify for government job ...</td> <td>b'I have polycythemia can I apply for government job can ...</td> <td>0    </td>\n",
       "        </tr>\n",
       "        <tr>\n",
       "            <td>109 </td> <td>b'If I see a video on YouTube , does the owner of the vi ...</td> <td>b'If I watch a video on YouTube , does the owner of the  ...</td> <td>1    </td>\n",
       "        </tr>\n",
       "        <tr>\n",
       "            <td>111 </td> <td>b'Who should they cast if they remake Friends in Bollywo ...</td> <td>b'Who should they cast if they remake Friends in Bollywo ...</td> <td>1    </td>\n",
       "        </tr>\n",
       "        <tr>\n",
       "            <td>113 </td> <td>b\"I want to learn piano but I do n't have the basic know ...</td> <td>b\"I want to learn piano but I do n't have the basic know ...</td> <td>1    </td>\n",
       "        </tr>\n",
       "        <tr>\n",
       "            <td>120 </td> <td>b'Can you shoot a Dangerous Human easily death with only ...</td> <td>b'Can you shoot a Dangerous Human easily death with only ...</td> <td>1    </td>\n",
       "        </tr>\n",
       "        <tr>\n",
       "            <td>123 </td> <td>b'Why Are angels shown as having wings ? are they ever s ...</td> <td>b'Why are angels shown as having wings ? Are they ever s ...</td> <td>1    </td>\n",
       "        </tr>\n",
       "        <tr>\n",
       "            <td>134 </td> <td>b\"I have to apply fresh passport for my wife and childre ...</td> <td>b\"I have to apply fresh passport for my wife and childre ...</td> <td>1    </td>\n",
       "        </tr>\n",
       "    </tbody>\n",
       "</table>\n",
       "<p>... (2563 rows omitted)</p>"
      ],
      "text/plain": [
       "<IPython.core.display.HTML object>"
      ]
     },
     "metadata": {},
     "output_type": "display_data"
    }
   ],
   "source": [
    "error_analysis = Table()\n",
    "\n",
    "\n",
    "error_analysis = error_analysis.with_column(\"id\", no, \"sent1\", err1, \"sent2\", err2, \"label\", wrongCat)\n",
    "\n",
    "\n",
    "#false POSITIVE: swap two words\n",
    "#false negative: swap two specific nouns\n",
    "error_analysis.show(30)"
   ]
  },
  {
   "cell_type": "code",
   "execution_count": 31,
   "metadata": {},
   "outputs": [
    {
     "data": {
      "text/html": [
       "<table border=\"1\" class=\"dataframe\">\n",
       "    <thead>\n",
       "        <tr>\n",
       "            <th>id</th> <th>sent1</th> <th>sent2</th> <th>label</th>\n",
       "        </tr>\n",
       "    </thead>\n",
       "    <tbody>\n",
       "        <tr>\n",
       "            <td>1   </td> <td>b'How can you treat ocd ? Is there any helpful suggestio ...</td> <td>b'How can you treat OCD ? Is there any helpful suggestio ...</td> <td>1    </td>\n",
       "        </tr>\n",
       "        <tr>\n",
       "            <td>7   </td> <td>b'What are some beautiful lines to comment on Beautiful  ...</td> <td>b'What are some Beautiful lines to comment on beautiful  ...</td> <td>1    </td>\n",
       "        </tr>\n",
       "        <tr>\n",
       "            <td>8   </td> <td>b'Can small dogs breed with large dogs ?'                   </td> <td>b'Can small dogs breed with large dogs ?'                   </td> <td>1    </td>\n",
       "        </tr>\n",
       "        <tr>\n",
       "            <td>13  </td> <td>b'Are Indian IT services companies like Tech Mahindra/ W ...</td> <td>b'Are Indian IT services companies like Wipro/TCS/Tech . ...</td> <td>1    </td>\n",
       "        </tr>\n",
       "        <tr>\n",
       "            <td>14  </td> <td>b'Is nuclear energy renewable energy ?'                     </td> <td>b\"`` Is nuclear energy `` renewable energy `` ? ''\"         </td> <td>1    </td>\n",
       "        </tr>\n",
       "        <tr>\n",
       "            <td>21  </td> <td>b'How can I make an android app using Python 3 ? Is ther ...</td> <td>b'How can I develop an android app using Python 3 ? Is t ...</td> <td>1    </td>\n",
       "        </tr>\n",
       "        <tr>\n",
       "            <td>24  </td> <td>b'Headbreak : What can I do to prevent heart break night ...</td> <td>b'Headbreak : What can I do to prevent heart break night ...</td> <td>1    </td>\n",
       "        </tr>\n",
       "        <tr>\n",
       "            <td>25  </td> <td>b'When is latent heat positive ?'                           </td> <td>b'When is latent heat positive ?'                           </td> <td>1    </td>\n",
       "        </tr>\n",
       "        <tr>\n",
       "            <td>28  </td> <td>b\"What does the phrase 'Do you feel me ' mean ?\"            </td> <td>b\"What does the phrase `Do you feel me'mean ?\"              </td> <td>1    </td>\n",
       "        </tr>\n",
       "        <tr>\n",
       "            <td>29  </td> <td>b'What are some unexpected things first-time visitors to ...</td> <td>b'What are some unexpected things , first-time visitors  ...</td> <td>1    </td>\n",
       "        </tr>\n",
       "    </tbody>\n",
       "</table>\n",
       "<p>... (1967 rows omitted)</p>"
      ],
      "text/plain": [
       "id   | sent1                                                        | sent2                                                        | label\n",
       "1    | b'How can you treat ocd ? Is there any helpful suggestio ... | b'How can you treat OCD ? Is there any helpful suggestio ... | 1\n",
       "7    | b'What are some beautiful lines to comment on Beautiful  ... | b'What are some Beautiful lines to comment on beautiful  ... | 1\n",
       "8    | b'Can small dogs breed with large dogs ?'                    | b'Can small dogs breed with large dogs ?'                    | 1\n",
       "13   | b'Are Indian IT services companies like Tech Mahindra/ W ... | b'Are Indian IT services companies like Wipro/TCS/Tech . ... | 1\n",
       "14   | b'Is nuclear energy renewable energy ?'                      | b\"`` Is nuclear energy `` renewable energy `` ? ''\"          | 1\n",
       "21   | b'How can I make an android app using Python 3 ? Is ther ... | b'How can I develop an android app using Python 3 ? Is t ... | 1\n",
       "24   | b'Headbreak : What can I do to prevent heart break night ... | b'Headbreak : What can I do to prevent heart break night ... | 1\n",
       "25   | b'When is latent heat positive ?'                            | b'When is latent heat positive ?'                            | 1\n",
       "28   | b\"What does the phrase 'Do you feel me ' mean ?\"             | b\"What does the phrase `Do you feel me'mean ?\"               | 1\n",
       "29   | b'What are some unexpected things first-time visitors to ... | b'What are some unexpected things , first-time visitors  ... | 1\n",
       "... (1967 rows omitted)"
      ]
     },
     "execution_count": 31,
     "metadata": {},
     "output_type": "execute_result"
    }
   ],
   "source": []
  },
  {
   "cell_type": "code",
   "execution_count": null,
   "metadata": {},
   "outputs": [],
   "source": []
  }
 ],
 "metadata": {
  "kernelspec": {
   "display_name": "Python 3",
   "language": "python",
   "name": "python3"
  },
  "language_info": {
   "codemirror_mode": {
    "name": "ipython",
    "version": 3
   },
   "file_extension": ".py",
   "mimetype": "text/x-python",
   "name": "python",
   "nbconvert_exporter": "python",
   "pygments_lexer": "ipython3",
   "version": "3.5.2"
  }
 },
 "nbformat": 4,
 "nbformat_minor": 2
}
