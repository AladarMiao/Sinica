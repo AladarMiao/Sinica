{
 "cells": [
  {
   "cell_type": "code",
   "execution_count": 1,
   "metadata": {},
   "outputs": [
    {
     "name": "stderr",
     "output_type": "stream",
     "text": [
      "Using TensorFlow backend.\n"
     ]
    }
   ],
   "source": [
    "import os\n",
    "\n",
    "from sklearn.model_selection import train_test_split\n",
    "import matplotlib\n",
    "import argparse\n",
    "import random\n",
    "import numpy as np\n",
    "import csv\n",
    "import pandas as pd\n",
    "from datascience import *\n",
    "import tensorflow as tf\n",
    "from sklearn.feature_extraction.text import CountVectorizer\n",
    "from keras.models import Model\n",
    "from keras.models import Sequential, load_model\n",
    "from keras.layers import *\n",
    "from keras.optimizers import Adam\n",
    "from keras import Input\n",
    "from keras.preprocessing.text import Tokenizer\n",
    "from keras.utils import plot_model\n",
    "import keras\n",
    "from keras.backend.tensorflow_backend import set_session\n",
    "#config = tf.ConfigProto()\n",
    "# config.gpu_options.allocator_type = 'BFC' #A \"Best-fit with coalescing\" algorithm, simplified from a version of dlmalloc.\n",
    "# config.gpu_options.per_process_gpu_memory_fraction = 0.7\n",
    "#config.gpu_options.allow_growth =True\n",
    "\n",
    "#set_session(tf.Session(config=config)) \n",
    "import re\n",
    "os.environ['PYTHONHASHSEED'] = '0'\n",
    "random.seed(1)\n",
    "np.random.seed(1)\n",
    "tf.set_random_seed(1)\n",
    "from keras.callbacks import *"
   ]
  },
  {
   "cell_type": "code",
   "execution_count": 4,
   "metadata": {},
   "outputs": [
    {
     "name": "stdout",
     "output_type": "stream",
     "text": [
      "404301\n"
     ]
    }
   ],
   "source": [
    "#parsing of the quora dataset\n",
    "\n",
    "counter = 0\n",
    "list1 = []\n",
    "with open(\"quora_duplicate_questions.tsv\", 'r', encoding='utf-8') as fd:\n",
    "  \n",
    "    for x in fd:\n",
    "        columns = x.split(\"\\t\")\n",
    "               \n",
    "       \n",
    "        list1.append(columns)\n",
    "\n",
    "print(len(list1))\n",
    "\n",
    "        "
   ]
  },
  {
   "cell_type": "code",
   "execution_count": 27,
   "metadata": {},
   "outputs": [
    {
     "name": "stdout",
     "output_type": "stream",
     "text": [
      "What is the step by step guide to invest in share market in india? What is the step by step guide to invest in share market?\n",
      "9\n"
     ]
    },
    {
     "ename": "AttributeError",
     "evalue": "'list' object has no attribute 'values'",
     "output_type": "error",
     "traceback": [
      "\u001b[0;31m---------------------------------------------------------------------------\u001b[0m",
      "\u001b[0;31mAttributeError\u001b[0m                            Traceback (most recent call last)",
      "\u001b[0;32m<ipython-input-27-add79f069a4f>\u001b[0m in \u001b[0;36m<module>\u001b[0;34m\u001b[0m\n\u001b[1;32m     21\u001b[0m     \u001b[0mdists\u001b[0m\u001b[0;34m[\u001b[0m\u001b[0mx\u001b[0m\u001b[0;34m-\u001b[0m\u001b[0;36m1\u001b[0m\u001b[0;34m]\u001b[0m\u001b[0;34m=\u001b[0m\u001b[0mvector\u001b[0m\u001b[0;34m\u001b[0m\u001b[0m\n\u001b[1;32m     22\u001b[0m \u001b[0;34m\u001b[0m\u001b[0m\n\u001b[0;32m---> 23\u001b[0;31m \u001b[0mdistances\u001b[0m \u001b[0;34m=\u001b[0m \u001b[0mall_dist\u001b[0m\u001b[0;34m.\u001b[0m\u001b[0mvalues\u001b[0m\u001b[0;34m\u001b[0m\u001b[0m\n\u001b[0m\u001b[1;32m     24\u001b[0m \u001b[0mbooleans\u001b[0m \u001b[0;34m=\u001b[0m \u001b[0mall_bool\u001b[0m\u001b[0;34m.\u001b[0m\u001b[0mvalues\u001b[0m\u001b[0;34m\u001b[0m\u001b[0m\n\u001b[1;32m     25\u001b[0m \u001b[0;34m\u001b[0m\u001b[0m\n",
      "\u001b[0;31mAttributeError\u001b[0m: 'list' object has no attribute 'values'"
     ]
    }
   ],
   "source": [
    "print(list1[1][3], list1[1][4])\n",
    "print(levenshtein(list1[1][3],list1[1][4]))\n",
    "\n",
    "\n",
    "#let's use levenshtein as a baseline model for the quora dataset\n",
    "dists=[None for i in range (len(list1)-1)]\n",
    "\n",
    "vector = [0]*2\n",
    "all_dist = [0]*(len(list1)-1)\n",
    "all_bool = [0]*(len(list1)-1)\n",
    "\n",
    "for x in range (1, 1000):\n",
    "    \n",
    "    \n",
    "    vector[0] = (levenshtein(list1[x][3], (list1[x][4])))\n",
    "    all_dist[x]=vector[0]\n",
    "    \n",
    "    vector[1] = (sanitize(list1[x][5]))\n",
    "    all_bool[x]=vector[1]\n",
    "    \n",
    "    dists[x-1]=vector\n",
    "\n",
    "distances = all_dist.values\n",
    "booleans = all_bool.values\n",
    "\n",
    "\n",
    "#training\n",
    "dist_train, dist_test, bool_train, bool_test = train_test_split(all_dist, all_bool, test_size=0.25, random_state=1000)\n",
    " \n",
    "\n",
    "\n",
    "classifier = LogisticRegression()\n",
    "classifier.fit(dist_train, bool_train)\n",
    "\n",
    "#testing\n",
    "\n",
    "score = classifier.score(dist_test, bool_test)\n",
    "print(score)"
   ]
  },
  {
   "cell_type": "code",
   "execution_count": null,
   "metadata": {},
   "outputs": [],
   "source": []
  },
  {
   "cell_type": "code",
   "execution_count": 8,
   "metadata": {},
   "outputs": [
    {
     "name": "stdout",
     "output_type": "stream",
     "text": [
      "is_duplicate\n"
     ]
    }
   ],
   "source": [
    "def sanitize(text):\n",
    "    # Strip \\n\n",
    "  \n",
    "    text = text.replace('\\n', '')\n",
    " \n",
    " \n",
    "    return text\n",
    "\n",
    "print(sanitize(\"is_duplicate\\n\"))"
   ]
  },
  {
   "cell_type": "code",
   "execution_count": 6,
   "metadata": {},
   "outputs": [],
   "source": [
    "#first thots on alg: Levenshtein distance\n",
    "\n",
    "#feature vector would thus be in this format: (dist, boolean)\n",
    "\n",
    "\n",
    "#number of same words\n",
    "\n",
    "#feature vector would thus be: (int, boolean)\n",
    "\n",
    "\n",
    "\n",
    "def levenshtein(s1, s2):   #https://en.wikibooks.org/wiki/Algorithm_Implementation/Strings/Levenshtein_distance#Python\n",
    "    if len(s1) < len(s2):\n",
    "        return levenshtein(s2, s1)\n",
    "\n",
    "    # len(s1) >= len(s2)\n",
    "    if len(s2) == 0:\n",
    "        return len(s1)\n",
    "\n",
    "    previous_row = range(len(s2) + 1)\n",
    "    for i, c1 in enumerate(s1):\n",
    "        current_row = [i + 1]\n",
    "        for j, c2 in enumerate(s2):\n",
    "            insertions = previous_row[j + 1] + 1 # j+1 instead of j since previous_row and current_row are one character longer\n",
    "            deletions = current_row[j] + 1       # than s2\n",
    "            substitutions = previous_row[j] + (c1 != c2)\n",
    "            current_row.append(min(insertions, deletions, substitutions))\n",
    "        previous_row = current_row\n",
    "    \n",
    "    return previous_row[-1]\n"
   ]
  },
  {
   "cell_type": "code",
   "execution_count": 31,
   "metadata": {},
   "outputs": [],
   "source": [
    "train_tb=Table.read_table(\"dataset/Phrase_Level/PAWS_QQP/LABELED_PAWS_QQP_TRAIN.tsv\")"
   ]
  },
  {
   "cell_type": "code",
   "execution_count": 32,
   "metadata": {},
   "outputs": [],
   "source": [
    "id_col=train_tb.apply(int, \"TRAIN_PAWS_QQP_id\")\n",
    "PPDB_id = train_tb.apply(int, \"PPDB_id\")"
   ]
  },
  {
   "cell_type": "code",
   "execution_count": 36,
   "metadata": {},
   "outputs": [],
   "source": [
    "phrase_dataset = train_tb.with_columns(\"TRAIN_PAWS_QQP_id\", id_col, \"PPDB_id\", PPDB_id, \"Ground Label\", llist)"
   ]
  },
  {
   "cell_type": "code",
   "execution_count": 37,
   "metadata": {},
   "outputs": [
    {
     "data": {
      "text/html": [
       "<table border=\"1\" class=\"dataframe\">\n",
       "    <thead>\n",
       "        <tr>\n",
       "            <th>TRAIN_PAWS_QQP_id</th> <th>PPDB_id</th> <th>sent1</th> <th>sent2</th> <th>paraphrase1</th> <th>paraphrase2</th> <th>labels1</th> <th>labels2</th> <th>Ground Label</th>\n",
       "        </tr>\n",
       "    </thead>\n",
       "    <tbody>\n",
       "        <tr>\n",
       "            <td>4                </td> <td>44326  </td> <td>b'What are the most common traffic convictions in Arizon ...</td> <td>b'What are the most common traffic convictions in Arkans ...</td> <td> most common    </td> <td> common    </td> <td>O O O B E O O O O O O O O O O O O O O O O O</td> <td>O O O O S O O O O O O O O O O O O O O O O O</td> <td>0           </td>\n",
       "        </tr>\n",
       "        <tr>\n",
       "            <td>10               </td> <td>103288 </td> <td>b'Which are in your opinion the most beautiful and the m ...</td> <td>b'Which are in your opinion the most depressing and the  ...</td> <td> most beautiful </td> <td> beautiful </td> <td>O O O O O O B E O O O O O O O O            </td> <td>O O O O O O O O O O O S O O O O            </td> <td>1           </td>\n",
       "        </tr>\n",
       "        <tr>\n",
       "            <td>14               </td> <td>316010 </td> <td>b'Is nuclear energy renewable energy ?'                     </td> <td>b\"`` Is nuclear energy `` renewable energy `` ? ''\"         </td> <td> nuclear energy </td> <td> nuclear   </td> <td>O B E O O O                                </td> <td>O O S O O O O O O O                        </td> <td>1           </td>\n",
       "        </tr>\n",
       "        <tr>\n",
       "            <td>18               </td> <td>526060 </td> <td>b'What ancient units would definitely win in a 1v1 fight ...</td> <td>b'What numerous modern units would definitely win in a 1 ...</td> <td> fight against  </td> <td> fight     </td> <td>O O O O O O O O O B E O O O O              </td> <td>O O O O O O O O O O S O O O O              </td> <td>0           </td>\n",
       "        </tr>\n",
       "    </tbody>\n",
       "</table>\n",
       "<p>... (1286 rows omitted)</p>"
      ],
      "text/plain": [
       "<IPython.core.display.HTML object>"
      ]
     },
     "metadata": {},
     "output_type": "display_data"
    }
   ],
   "source": [
    "phrase_dataset.show(4)"
   ]
  },
  {
   "cell_type": "code",
   "execution_count": 39,
   "metadata": {},
   "outputs": [],
   "source": [
    "phrase_dataset=phrase_dataset.to_df()\n",
    "phrase_dataset.to_csv(\"dataset/Phrase_Level/PAWS_QQP/LABELED_PAWS_QQP_TRAIN.tsv\", sep='\\t')"
   ]
  },
  {
   "cell_type": "code",
   "execution_count": 40,
   "metadata": {},
   "outputs": [],
   "source": [
    "dev_tb=Table.read_table(\"dataset/Phrase_Level/PAWS_QQP/LABELED_PAWS_QQP_DEV.tsv\")"
   ]
  },
  {
   "cell_type": "code",
   "execution_count": 47,
   "metadata": {},
   "outputs": [
    {
     "data": {
      "text/html": [
       "<table border=\"1\" class=\"dataframe\">\n",
       "    <thead>\n",
       "        <tr>\n",
       "            <th>DEV_PAWS_QQP_id</th> <th>PPDB_id</th> <th>sent1</th> <th>sent2</th> <th>paraphrase1</th> <th>paraphrase2</th> <th>labels1</th> <th>labels2</th> <th>Ground Label</th>\n",
       "        </tr>\n",
       "    </thead>\n",
       "    <tbody>\n",
       "        <tr>\n",
       "            <td>3              </td> <td>84905  </td> <td>b\"Why ca n't countries afford high quality products , bu ...</td> <td>b\"Why ca n't countries afford China 's high quality prod ...</td> <td> high quality </td> <td> quality    </td> <td>O O O O O B E O O O O O O O O O O O O O O O O O O O         </td> <td>O O O O O O O O S O O O O O O O O O O O O O O O O O O O     </td> <td>0           </td>\n",
       "        </tr>\n",
       "        <tr>\n",
       "            <td>3              </td> <td>129607 </td> <td>b\"Why ca n't countries afford high quality products , bu ...</td> <td>b\"Why ca n't countries afford China 's high quality prod ...</td> <td> high quality </td> <td> quality    </td> <td>O O O O O B E O O O O O O O O O O O O O O O O O O O         </td> <td>O O O O O O O O S O O O O O O O O O O O O O O O O O O O     </td> <td>0           </td>\n",
       "        </tr>\n",
       "        <tr>\n",
       "            <td>11             </td> <td>72492  </td> <td>b'How do I start learning electronic music production ?  ...</td> <td>b'How do I begin learning electronic music production ?  ...</td> <td> begin with   </td> <td> start with </td> <td>O O O O O O O O O O O B E O O O O O O O O O O O O O O O  ...</td> <td>O O O O O O O O O O O B E O O O O O O O O O O O O O O O  ...</td> <td>1           </td>\n",
       "        </tr>\n",
       "        <tr>\n",
       "            <td>11             </td> <td>366448 </td> <td>b'How do I start learning electronic music production ?  ...</td> <td>b'How do I begin learning electronic music production ?  ...</td> <td> begin with   </td> <td> start with </td> <td>O O O O O O O O O O O B E O O O O O O O O O O O O O O O  ...</td> <td>O O O O O O O O O O O B E O O O O O O O O O O O O O O O  ...</td> <td>1           </td>\n",
       "        </tr>\n",
       "    </tbody>\n",
       "</table>\n",
       "<p>... (96 rows omitted)</p>"
      ],
      "text/plain": [
       "<IPython.core.display.HTML object>"
      ]
     },
     "metadata": {},
     "output_type": "display_data"
    }
   ],
   "source": [
    "id_col=dev_tb.apply(int, \"DEV_PAWS_QQP_id\")\n",
    "PPDB_id = dev_tb.apply(int, \"PPDB_id\")\n",
    "phrase_dataset = dev_tb.with_columns(\"DEV_PAWS_QQP_id\", id_col, \"PPDB_id\", PPDB_id, \"Ground Label\", llist)\n",
    "phrase_dataset.show(4)"
   ]
  },
  {
   "cell_type": "code",
   "execution_count": 48,
   "metadata": {},
   "outputs": [],
   "source": [
    "phrase_dataset=phrase_dataset.to_df()\n",
    "phrase_dataset.to_csv(\"dataset/Phrase_Level/PAWS_QQP/LABELED_PAWS_QQP_DEV.tsv\", sep='\\t')"
   ]
  },
  {
   "cell_type": "code",
   "execution_count": 41,
   "metadata": {},
   "outputs": [
    {
     "data": {
      "text/html": [
       "<table border=\"1\" class=\"dataframe\">\n",
       "    <thead>\n",
       "        <tr>\n",
       "            <th>DEV_PAWS_QQP_id</th> <th>PPDB_id</th> <th>sent1</th> <th>sent2</th> <th>paraphrase1</th> <th>paraphrase2</th> <th>labels1</th> <th>labels2</th>\n",
       "        </tr>\n",
       "    </thead>\n",
       "    <tbody>\n",
       "        <tr>\n",
       "            <td>3.0            </td> <td>84905.0 </td> <td>b\"Why ca n't countries afford high quality products , bu ...</td> <td>b\"Why ca n't countries afford China 's high quality prod ...</td> <td> high quality           </td> <td> quality         </td> <td>O O O O O B E O O O O O O O O O O O O O O O O O O O         </td> <td>O O O O O O O O S O O O O O O O O O O O O O O O O O O O     </td>\n",
       "        </tr>\n",
       "        <tr>\n",
       "            <td>3.0            </td> <td>129607.0</td> <td>b\"Why ca n't countries afford high quality products , bu ...</td> <td>b\"Why ca n't countries afford China 's high quality prod ...</td> <td> high quality           </td> <td> quality         </td> <td>O O O O O B E O O O O O O O O O O O O O O O O O O O         </td> <td>O O O O O O O O S O O O O O O O O O O O O O O O O O O O     </td>\n",
       "        </tr>\n",
       "        <tr>\n",
       "            <td>11.0           </td> <td>72492.0 </td> <td>b'How do I start learning electronic music production ?  ...</td> <td>b'How do I begin learning electronic music production ?  ...</td> <td> begin with             </td> <td> start with      </td> <td>O O O O O O O O O O O B E O O O O O O O O O O O O O O O  ...</td> <td>O O O O O O O O O O O B E O O O O O O O O O O O O O O O  ...</td>\n",
       "        </tr>\n",
       "        <tr>\n",
       "            <td>11.0           </td> <td>366448.0</td> <td>b'How do I start learning electronic music production ?  ...</td> <td>b'How do I begin learning electronic music production ?  ...</td> <td> begin with             </td> <td> start with      </td> <td>O O O O O O O O O O O B E O O O O O O O O O O O O O O O  ...</td> <td>O O O O O O O O O O O B E O O O O O O O O O O O O O O O  ...</td>\n",
       "        </tr>\n",
       "        <tr>\n",
       "            <td>22.0           </td> <td>543619.0</td> <td>b\"I 'm currently working for a Big 4 as an Advanced Tax  ...</td> <td>b\"I 'm currently working for a Big 4 as an Advanced Tax  ...</td> <td> much better            </td> <td> much            </td> <td>O O O O O O O O O O O O O O O O O O O O O O O O O O O O  ...</td> <td>O O O O O O O O O O O O O O O O O O O O O O O O O O O O  ...</td>\n",
       "        </tr>\n",
       "        <tr>\n",
       "            <td>25.0           </td> <td>487239.0</td> <td>b'In Nevada when pulling out of a parking lot , can you  ...</td> <td>b'In Nevada when pulling out of a parking lot , can you  ...</td> <td> far left               </td> <td> left            </td> <td>O O O O O O O O O O O O O O O O O O B E O O O O O O O O  ...</td> <td>O O O O O O O O O O O O O O S O O O O O O O O O O O O O  ...</td>\n",
       "        </tr>\n",
       "        <tr>\n",
       "            <td>29.0           </td> <td>284980.0</td> <td>b\"What are the reasons for SAARC 's failure as regional  ...</td> <td>b\"What are the reasons for SAARC 's failure as common or ...</td> <td> economic cooperation   </td> <td> cooperation     </td> <td>O O O O O O O O O O O O O O O B E O O O O O O O             </td> <td>O O O O O O O O O O O O O O O O O O O O O O S O             </td>\n",
       "        </tr>\n",
       "        <tr>\n",
       "            <td>56.0           </td> <td>459668.0</td> <td>b'I want to be a child psychologist , what qualification ...</td> <td>b'I want to become a child psychologist , what qualifica ...</td> <td> become one             </td> <td> be              </td> <td>O O O O O O O O O O O O O O B E O O O O O O O O O O O O O   </td> <td>O O O O O O O O O O O O O O S O O O O O O O O O O O O O O   </td>\n",
       "        </tr>\n",
       "        <tr>\n",
       "            <td>57.0           </td> <td>71262.0 </td> <td>b'Why are beautiful girls so rude all the time ? I saw a ...</td> <td>b'Why are rude girls so beautiful all the time ? I saw a ...</td> <td> very rude              </td> <td> rude            </td> <td>O O O O O O O O O O O O O O O O O O O O O O O O O O O B  ...</td> <td>O O S O O O O O O O O O O O O O O O O O O O O O O O O O  ...</td>\n",
       "        </tr>\n",
       "        <tr>\n",
       "            <td>57.0           </td> <td>494710.0</td> <td>b'Why are beautiful girls so rude all the time ? I saw a ...</td> <td>b'Why are rude girls so beautiful all the time ? I saw a ...</td> <td> go away                </td> <td> away            </td> <td>O O O O O O O O O O O O O O O O O O O O O O O O O O O O  ...</td> <td>O O O O O O O O O O O O O O O O O O O O O O O O O O O O  ...</td>\n",
       "        </tr>\n",
       "        <tr>\n",
       "            <td>61.0           </td> <td>29800.0 </td> <td>b\"What is the name of the creepiest horror movie you 've ...</td> <td>b\"What is the name of the scariest horror movie you 've  ...</td> <td> 've ever seen          </td> <td> ever seen       </td> <td>O O O O O O O O O O B I E O O O O O O O                     </td> <td>O O O O O O O O O O O B E O O O O O O O                     </td>\n",
       "        </tr>\n",
       "        <tr>\n",
       "            <td>61.0           </td> <td>65644.0 </td> <td>b\"What is the name of the creepiest horror movie you 've ...</td> <td>b\"What is the name of the scariest horror movie you 've  ...</td> <td> ever seen              </td> <td> 've ever seen   </td> <td>O O O O O O O O O O O B E O O O O O O O                     </td> <td>O O O O O O O O O O B I E O O O O O O O                     </td>\n",
       "        </tr>\n",
       "        <tr>\n",
       "            <td>62.0           </td> <td>234688.0</td> <td>b'I am an electrical engineering student.I am very much  ...</td> <td>b'Am an electrical engineering student , am very much in ...</td> <td> very much              </td> <td> much            </td> <td>O O O O O O O B E O O O O O O O O O O O O O O O O O O       </td> <td>O O O O O O O O S O O O O O O O O O O O O O O O O O O       </td>\n",
       "        </tr>\n",
       "        <tr>\n",
       "            <td>62.0           </td> <td>240113.0</td> <td>b'I am an electrical engineering student.I am very much  ...</td> <td>b'Am an electrical engineering student , am very much in ...</td> <td> very much              </td> <td> much            </td> <td>O O O O O O O B E O O O O O O O O O O O O O O O O O O       </td> <td>O O O O O O O O S O O O O O O O O O O O O O O O O O O       </td>\n",
       "        </tr>\n",
       "        <tr>\n",
       "            <td>62.0           </td> <td>337226.0</td> <td>b'I am an electrical engineering student.I am very much  ...</td> <td>b'Am an electrical engineering student , am very much in ...</td> <td> interested in          </td> <td> interest        </td> <td>O O O O O O O O O B E O O O O O O O O O O O O O O O O       </td> <td>O O O O O O O O O O O O O O O O O O O O O O O O O S O       </td>\n",
       "        </tr>\n",
       "        <tr>\n",
       "            <td>62.0           </td> <td>408259.0</td> <td>b'I am an electrical engineering student.I am very much  ...</td> <td>b'Am an electrical engineering student , am very much in ...</td> <td> very much              </td> <td> much            </td> <td>O O O O O O O B E O O O O O O O O O O O O O O O O O O       </td> <td>O O O O O O O O S O O O O O O O O O O O O O O O O O O       </td>\n",
       "        </tr>\n",
       "        <tr>\n",
       "            <td>70.0           </td> <td>573133.0</td> <td>b\"What is the purpose of life ? What 's life actually ab ...</td> <td>b\"What 's the purpose of life ? What is life actually ab ...</td> <td> 's life                </td> <td> life            </td> <td>O O O O O O O O B E O O O                                   </td> <td>O O O O O S O O O O O O O                                   </td>\n",
       "        </tr>\n",
       "        <tr>\n",
       "            <td>82.0           </td> <td>80531.0 </td> <td>b'Why does people here in Quora still ask some questions ...</td> <td>b'Why does people here in Quora still ask some questions ...</td> <td> somewhere else         </td> <td> somewhere       </td> <td>O O O O O O O O O O O O O O O O O O O O O B E O O O O       </td> <td>O O O O O O O O O O O O O O O S O O O O O O O O O O O       </td>\n",
       "        </tr>\n",
       "        <tr>\n",
       "            <td>82.0           </td> <td>198808.0</td> <td>b'Why does people here in Quora still ask some questions ...</td> <td>b'Why does people here in Quora still ask some questions ...</td> <td> somewhere else         </td> <td> somewhere       </td> <td>O O O O O O O O O O O O O O O O O O O O O B E O O O O       </td> <td>O O O O O O O O O O O O O O O S O O O O O O O O O O O       </td>\n",
       "        </tr>\n",
       "        <tr>\n",
       "            <td>87.0           </td> <td>239527.0</td> <td>b'How can we earn money online easily without any kind o ...</td> <td>b'How can We earn money easily on online without any kin ...</td> <td> earn money             </td> <td> earn            </td> <td>O O O B E O O O O O O O O                                   </td> <td>O O O S O O O O O O O O O O                                 </td>\n",
       "        </tr>\n",
       "        <tr>\n",
       "            <td>101.0          </td> <td>194412.0</td> <td>b\"My JBL flip 3 has stopped working the moment I did a s ...</td> <td>b\"My JBL flip 3 has stopped working the moment I did a s ...</td> <td> 's not                 </td> <td> not             </td> <td>O O O O O O O O O O O O O O O O O O O O B E O O O O O O     </td> <td>O O O O O O O O O O O O O O O O O O O O O S O O O O O O     </td>\n",
       "        </tr>\n",
       "        <tr>\n",
       "            <td>112.0          </td> <td>36773.0 </td> <td>b'What are the most efficient real time audio filtering  ...</td> <td>b'What are the most efficient real time audio filtering  ...</td> <td> most efficient         </td> <td> efficient       </td> <td>O O O B E O O O O O O O O O O O O O O O O O O O O O O O  ...</td> <td>O O O O S O O O O O O O O O O O O O O O O O O O O O O O  ...</td>\n",
       "        </tr>\n",
       "        <tr>\n",
       "            <td>112.0          </td> <td>73636.0 </td> <td>b'What are the most efficient real time audio filtering  ...</td> <td>b'What are the most efficient real time audio filtering  ...</td> <td> most efficient         </td> <td> efficient       </td> <td>O O O B E O O O O O O O O O O O O O O O O O O O O O O O  ...</td> <td>O O O O S O O O O O O O O O O O O O O O O O O O O O O O  ...</td>\n",
       "        </tr>\n",
       "        <tr>\n",
       "            <td>131.0          </td> <td>350671.0</td> <td>b'How do you feel about white people adopting black chil ...</td> <td>b'How do you feel about black people adopting white chil ...</td> <td> white people           </td> <td> white           </td> <td>O O O O O B E O O O O                                       </td> <td>O O O O O O O O S O O                                       </td>\n",
       "        </tr>\n",
       "        <tr>\n",
       "            <td>132.0          </td> <td>33208.0 </td> <td>b'What courses ( for good jobs ) are most important to b ...</td> <td>b'What courses ( for professional electrical and electro ...</td> <td> most important         </td> <td> important       </td> <td>O O O O O O O O B E O O O O O O O O O                       </td> <td>O O O O O O O O O O O O S O O O O O O                       </td>\n",
       "        </tr>\n",
       "        <tr>\n",
       "            <td>135.0          </td> <td>36773.0 </td> <td>b'What are most efficient real time audio filtering algo ...</td> <td>b'What are most efficient real time audio filtering algo ...</td> <td> most efficient         </td> <td> efficient       </td> <td>O O B E O O O O O O O O O O O O O O O O O O O O O O O O  ...</td> <td>O O O S O O O O O O O O O O O O O O O O O O O O O O O O  ...</td>\n",
       "        </tr>\n",
       "        <tr>\n",
       "            <td>135.0          </td> <td>73636.0 </td> <td>b'What are most efficient real time audio filtering algo ...</td> <td>b'What are most efficient real time audio filtering algo ...</td> <td> most efficient         </td> <td> efficient       </td> <td>O O B E O O O O O O O O O O O O O O O O O O O O O O O O  ...</td> <td>O O O S O O O O O O O O O O O O O O O O O O O O O O O O  ...</td>\n",
       "        </tr>\n",
       "        <tr>\n",
       "            <td>139.0          </td> <td>244468.0</td> <td>b\"How much can a top code boot camp graduate expect to e ...</td> <td>b\"How much can a recent code boot camp graduate expect t ...</td> <td> work experience        </td> <td> experience      </td> <td>O O O O O O O O O O O O O O O O O O O O O O O O O O O O  ...</td> <td>O O O O O O O O O O O O O O O O O O O O O O O O O O O O  ...</td>\n",
       "        </tr>\n",
       "        <tr>\n",
       "            <td>143.0          </td> <td>302476.0</td> <td>b'Why am I unable to cancel recently booked tickets that ...</td> <td>b'Why am I unable to see recently booked tickets that I  ...</td> <td> wish to see            </td> <td> wish            </td> <td>O O O O O O O O O O O B I E O O O O O                       </td> <td>O O O O O O O O O O O S O O O O O O O                       </td>\n",
       "        </tr>\n",
       "        <tr>\n",
       "            <td>165.0          </td> <td>141426.0</td> <td>b'Can someone listen to only Metal ? ( Not ACDC and Led  ...</td> <td>b'Can someone listen to Not Metal ? ( only ACDC and Led  ...</td> <td> anyone else            </td> <td> anyone          </td> <td>O O O O O O O O O O O O O O O O O O O O O B E O O O O O  ...</td> <td>O O O O O O O O O O O O O O O O O O O O O S O O O O O O  ...</td>\n",
       "        </tr>\n",
       "        <tr>\n",
       "            <td>167.0          </td> <td>44326.0 </td> <td>b'What are the most common traffic convictions in Texas  ...</td> <td>b'What are the most common traffic convictions in Arkans ...</td> <td> most common            </td> <td> common          </td> <td>O O O B E O O O O O O O O O O O O O O O O O                 </td> <td>O O O O S O O O O O O O O O O O O O O O O O                 </td>\n",
       "        </tr>\n",
       "        <tr>\n",
       "            <td>171.0          </td> <td>44326.0 </td> <td>b'What are the most common traffic convictions in Arkans ...</td> <td>b'What are the most common traffic convictions in Connec ...</td> <td> most common            </td> <td> common          </td> <td>O O O B E O O O O O O O O O O O O O O O O O                 </td> <td>O O O O S O O O O O O O O O O O O O O O O O                 </td>\n",
       "        </tr>\n",
       "        <tr>\n",
       "            <td>193.0          </td> <td>88753.0 </td> <td>b'What emotions are experienced by an orthodox girl , fr ...</td> <td>b'What emotions are experienced by an unmarried Muslim g ...</td> <td> first time             </td> <td> first           </td> <td>O O O O O O O O O O O O O O O O O O O O O O B E O O         </td> <td>O O O O O O O O O O O O O O O O O O O O O O S O O O         </td>\n",
       "        </tr>\n",
       "        <tr>\n",
       "            <td>198.0          </td> <td>239527.0</td> <td>b'What are some best ways to earn money without regular  ...</td> <td>b'What are some best ways to earn money without monetary ...</td> <td> earn money             </td> <td> earn            </td> <td>O O O O O O B E O O O O O O O O                             </td> <td>O O O O O O S O O O O O O O O O                             </td>\n",
       "        </tr>\n",
       "        <tr>\n",
       "            <td>245.0          </td> <td>565146.0</td> <td>b\"If you are between two galaxies , will you be able to  ...</td> <td>b\"If you 're between two galaxies , will you be able to  ...</td> <td> 're told               </td> <td> told            </td> <td>O O O O O O O O O O O O O O O O O O O O O O O O O O B E  ...</td> <td>O O O O O O O O O O O O O O O O O O O O O O O O O O O S  ...</td>\n",
       "        </tr>\n",
       "        <tr>\n",
       "            <td>248.0          </td> <td>244991.0</td> <td>b\"Is the general population `intelligent'or do they thin ...</td> <td>b\"Is the general population `intelligent ' or do they th ...</td> <td> general population     </td> <td> population      </td> <td>O O B E O O O O O O O O O O                                 </td> <td>O O O S O O O O O O O O O O O O                             </td>\n",
       "        </tr>\n",
       "        <tr>\n",
       "            <td>248.0          </td> <td>389274.0</td> <td>b\"Is the general population `intelligent'or do they thin ...</td> <td>b\"Is the general population `intelligent ' or do they th ...</td> <td> the general population </td> <td> population      </td> <td>O B I E O O O O O O O O O O                                 </td> <td>O O O S O O O O O O O O O O O O                             </td>\n",
       "        </tr>\n",
       "        <tr>\n",
       "            <td>265.0          </td> <td>83337.0 </td> <td>b'What are some not-so-boring baby shower games ( both m ...</td> <td>b'What are some not-so-attending baby shower games ( bot ...</td> <td> men and women          </td> <td> and women       </td> <td>O O O O O O O O O B I E O O O                               </td> <td>O O O O O O O O O O B E O O O                               </td>\n",
       "        </tr>\n",
       "        <tr>\n",
       "            <td>265.0          </td> <td>295071.0</td> <td>b'What are some not-so-boring baby shower games ( both m ...</td> <td>b'What are some not-so-attending baby shower games ( bot ...</td> <td> and women              </td> <td> men and women   </td> <td>O O O O O O O O O O B E O O O                               </td> <td>O O O O O O O O O B I E O O O                               </td>\n",
       "        </tr>\n",
       "        <tr>\n",
       "            <td>265.0          </td> <td>509595.0</td> <td>b'What are some not-so-boring baby shower games ( both m ...</td> <td>b'What are some not-so-attending baby shower games ( bot ...</td> <td> men and women          </td> <td> men and         </td> <td>O O O O O O O O O B I E O O O                               </td> <td>O O O O O O O O O B E O O O O                               </td>\n",
       "        </tr>\n",
       "        <tr>\n",
       "            <td>265.0          </td> <td>529130.0</td> <td>b'What are some not-so-boring baby shower games ( both m ...</td> <td>b'What are some not-so-attending baby shower games ( bot ...</td> <td> both men and women     </td> <td> men and women   </td> <td>O O O O O O O O B I I E O O O                               </td> <td>O O O O O O O O O B I E O O O                               </td>\n",
       "        </tr>\n",
       "        <tr>\n",
       "            <td>270.0          </td> <td>125706.0</td> <td>b\"Does Jimmy Wales ( of whom I 'm a great admirer ) feel ...</td> <td>b\"Does Jimmy Wales ( of whom I 'm a great admirer ) feel ...</td> <td> billion dollars        </td> <td> dollars ,       </td> <td>O O O O O O O O O O O O O O O O O O O O O O O O O B E O  ...</td> <td>O O O O O O O O O O O O O O O O O O O O O O O O O B E O  ...</td>\n",
       "        </tr>\n",
       "        <tr>\n",
       "            <td>270.0          </td> <td>234688.0</td> <td>b\"Does Jimmy Wales ( of whom I 'm a great admirer ) feel ...</td> <td>b\"Does Jimmy Wales ( of whom I 'm a great admirer ) feel ...</td> <td> very much              </td> <td> much            </td> <td>O O O O O O O O O O O O O B E O O O O O O O O O O O O O  ...</td> <td>O O O O O O O O O O O O O O O O O O O O O O O O O O O O  ...</td>\n",
       "        </tr>\n",
       "        <tr>\n",
       "            <td>270.0          </td> <td>240113.0</td> <td>b\"Does Jimmy Wales ( of whom I 'm a great admirer ) feel ...</td> <td>b\"Does Jimmy Wales ( of whom I 'm a great admirer ) feel ...</td> <td> very much              </td> <td> much            </td> <td>O O O O O O O O O O O O O B E O O O O O O O O O O O O O  ...</td> <td>O O O O O O O O O O O O O O O O O O O O O O O O O O O O  ...</td>\n",
       "        </tr>\n",
       "        <tr>\n",
       "            <td>270.0          </td> <td>400623.0</td> <td>b\"Does Jimmy Wales ( of whom I 'm a great admirer ) feel ...</td> <td>b\"Does Jimmy Wales ( of whom I 'm a great admirer ) feel ...</td> <td> dollars ,              </td> <td> billion dollars </td> <td>O O O O O O O O O O O O O O O O O O O O O O O O O O B E  ...</td> <td>O O O O O O O O O O O O O O O O O O O O O O O O B E O O  ...</td>\n",
       "        </tr>\n",
       "        <tr>\n",
       "            <td>270.0          </td> <td>408259.0</td> <td>b\"Does Jimmy Wales ( of whom I 'm a great admirer ) feel ...</td> <td>b\"Does Jimmy Wales ( of whom I 'm a great admirer ) feel ...</td> <td> very much              </td> <td> much            </td> <td>O O O O O O O O O O O O O B E O O O O O O O O O O O O O  ...</td> <td>O O O O O O O O O O O O O O O O O O O O O O O O O O O O  ...</td>\n",
       "        </tr>\n",
       "        <tr>\n",
       "            <td>280.0          </td> <td>350671.0</td> <td>b'Do white people consider themselves Asian ?'              </td> <td>b'Do Asian people consider themselves white ?'              </td> <td> white people           </td> <td> white           </td> <td>O B E O O O O                                               </td> <td>O O O O O S O                                               </td>\n",
       "        </tr>\n",
       "        <tr>\n",
       "            <td>282.0          </td> <td>36506.0 </td> <td>b'What is the easiest , painless , cheapest way to commi ...</td> <td>b'What is the cheapest , painless , easiest way to commi ...</td> <td> commit suicide         </td> <td> suicide         </td> <td>O O O O O O O O O O B E O                                   </td> <td>O O O O O O O O O O O S O                                   </td>\n",
       "        </tr>\n",
       "        <tr>\n",
       "            <td>282.0          </td> <td>262931.0</td> <td>b'What is the easiest , painless , cheapest way to commi ...</td> <td>b'What is the cheapest , painless , easiest way to commi ...</td> <td> to commit suicide      </td> <td> suicide         </td> <td>O O O O O O O O O B I E O                                   </td> <td>O O O O O O O O O O O S O                                   </td>\n",
       "        </tr>\n",
       "        <tr>\n",
       "            <td>282.0          </td> <td>459575.0</td> <td>b'What is the easiest , painless , cheapest way to commi ...</td> <td>b'What is the cheapest , painless , easiest way to commi ...</td> <td> suicide                </td> <td> commit suicide  </td> <td>O O O O O O O O O O O S O                                   </td> <td>O O O O O O O O O O B E O                                   </td>\n",
       "        </tr>\n",
       "    </tbody>\n",
       "</table>\n",
       "<p>... (50 rows omitted)</p>"
      ],
      "text/plain": [
       "<IPython.core.display.HTML object>"
      ]
     },
     "metadata": {},
     "output_type": "display_data"
    }
   ],
   "source": [
    "list1=[]\n",
    "list2=[]\n",
    "Tb=Table()\n",
    "with open(\"dataset/Phrase_Level/PAWS_QQP/LABELED_PAWS_QQP_DEV.tsv\", 'r', encoding='utf-8') as fd:\n",
    "    \n",
    "    rd = csv.reader(fd, delimiter=\"\\t\", quotechar='\"')\n",
    "    for row in rd:\n",
    "        \n",
    "        list1.append(row) #pairs start at index 1, with id, setence1, sentence2, label, respectively.\n",
    "     \n",
    "    for y in range(8):\n",
    "        temp=[]\n",
    "        for x in range(1, len(list1)):\n",
    "            temp.append(list1[x][y])\n",
    "            \n",
    "        list2.append(temp)\n",
    "\n",
    "    for ele in range(len(list2)):\n",
    "        Tb=Tb.with_columns(list1[0][ele], list2[ele])\n",
    "\n",
    "\n",
    "Tb.show(50)"
   ]
  },
  {
   "cell_type": "code",
   "execution_count": 23,
   "metadata": {},
   "outputs": [],
   "source": [
    "list1=[]\n",
    "list2=[]\n",
    "Tb_sup=Table()\n",
    "with open(\"dataset/PAWS_QQP/PAWS_QQP_dev_and_test.tsv\", 'r', encoding='utf-8') as fd:\n",
    "    rd = csv.reader(fd, delimiter=\"\\t\", quotechar='\"')\n",
    "    for row in rd:\n",
    "        \n",
    "        list1.append(row) #pairs start at index 1, with id, setence1, sentence2, label, respectively.\n",
    "     \n",
    "    for y in range(4):\n",
    "        temp=[]\n",
    "        for x in range(1, len(list1)):\n",
    "            temp.append(list1[x][y])\n",
    "            \n",
    "        list2.append(temp)\n",
    "\n",
    "    for ele in range(len(list2)):\n",
    "        Tb_sup=Tb_sup.with_columns(list1[0][ele], list2[ele])\n",
    "\n",
    "\n"
   ]
  },
  {
   "cell_type": "code",
   "execution_count": 43,
   "metadata": {},
   "outputs": [],
   "source": [
    "Tb_sup=Table.read_table(\"dataset/PAWS_QQP/PAWS_QQP_dev_and_test.tsv\")"
   ]
  },
  {
   "cell_type": "code",
   "execution_count": 44,
   "metadata": {},
   "outputs": [],
   "source": [
    "ll=Tb_sup.column(\"label\")\n",
    "llist = []\n",
    "for x in ((Tb.column(0))):\n",
    "    p = float(x)\n",
    "    llist=np.append(llist, (ll[int(p)]))  \n",
    "    \n"
   ]
  },
  {
   "cell_type": "code",
   "execution_count": 45,
   "metadata": {},
   "outputs": [
    {
     "name": "stdout",
     "output_type": "stream",
     "text": [
      "[0. 0. 1. 1. 0. 0. 0. 1. 0. 0. 0. 0. 0. 0. 0. 0. 1. 0. 0. 1. 1. 0. 0. 0.\n",
      " 0. 0. 0. 0. 0. 0. 0. 0. 0. 0. 1. 1. 1. 0. 0. 0. 0. 0. 0. 0. 0. 0. 0. 1.\n",
      " 1. 1. 0.]\n"
     ]
    }
   ],
   "source": [
    "print(llist[:51])\n"
   ]
  },
  {
   "cell_type": "code",
   "execution_count": null,
   "metadata": {},
   "outputs": [],
   "source": []
  },
  {
   "cell_type": "code",
   "execution_count": null,
   "metadata": {},
   "outputs": [],
   "source": []
  }
 ],
 "metadata": {
  "kernelspec": {
   "display_name": "Python 3",
   "language": "python",
   "name": "python3"
  },
  "language_info": {
   "codemirror_mode": {
    "name": "ipython",
    "version": 3
   },
   "file_extension": ".py",
   "mimetype": "text/x-python",
   "name": "python",
   "nbconvert_exporter": "python",
   "pygments_lexer": "ipython3",
   "version": "3.5.2"
  }
 },
 "nbformat": 4,
 "nbformat_minor": 2
}
